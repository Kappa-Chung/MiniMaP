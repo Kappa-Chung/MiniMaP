{
 "cells": [
  {
   "cell_type": "markdown",
   "id": "f2fd8562",
   "metadata": {},
   "source": [
    "# Breast cancer PSI-MS - Optimization"
   ]
  },
  {
   "cell_type": "markdown",
   "id": "5940cc86",
   "metadata": {},
   "source": [
    "Import packages"
   ]
  },
  {
   "cell_type": "code",
   "execution_count": 1,
   "id": "59bb401e",
   "metadata": {},
   "outputs": [],
   "source": [
    "import os\n",
    "import matplotlib.pyplot as plt\n",
    "import numpy as np\n",
    "import pandas as pd\n",
    "from sklearn import svm\n",
    "from sklearn import model_selection\n",
    "from sklearn.metrics import confusion_matrix, auc, roc_curve\n",
    "from sklearn import feature_selection\n",
    "from sklearn.model_selection import StratifiedKFold\n",
    "import plotly.express as px\n",
    "import plotly.graph_objects as go\n",
    "from plotly.subplots import make_subplots\n",
    "import pickle"
   ]
  },
  {
   "cell_type": "code",
   "execution_count": 2,
   "id": "57a4b9f2",
   "metadata": {},
   "outputs": [],
   "source": [
    "def performance(diagnosis,prediction):\n",
    "    result=confusion_matrix(diagnosis,prediction)\n",
    "    tn,fp,fn,tp=result.ravel()\n",
    "    accuracy=(tp+tn)/np.sum(result)\n",
    "    specificity=tn/sum(result[0,:])\n",
    "    sensitivity=tp/sum(result[1,:])\n",
    "    print('Accuracy: %.3f Sensitivity: %.3f Specificity: %.3f'%(accuracy,sensitivity,specificity))\n",
    "    print(tp)\n",
    "    print(tn)\n",
    "    return accuracy, specificity, sensitivity"
   ]
  },
  {
   "cell_type": "markdown",
   "id": "d53314be",
   "metadata": {},
   "source": [
    "File directory / Filename"
   ]
  },
  {
   "cell_type": "code",
   "execution_count": 3,
   "id": "a027713e",
   "metadata": {},
   "outputs": [],
   "source": [
    "Path = r'D:\\Breast Cancer PSIMS\\Codes and figures'\n",
    "Filename_train = 'PSIMS_Data_from_Lab.csv'\n",
    "Filename_external = 'PSIMS_Data_Hospital.csv'\n",
    "Filename_stage0 = 'PSIMS_Data_Stage0.csv'"
   ]
  },
  {
   "cell_type": "markdown",
   "id": "43dd91bc",
   "metadata": {},
   "source": [
    "Preprocess data"
   ]
  },
  {
   "cell_type": "code",
   "execution_count": 4,
   "id": "034a1c30",
   "metadata": {},
   "outputs": [],
   "source": [
    "# Read raw file for model construction\n",
    "Raw_data = pd.read_csv(os.path.join(Path,Filename_train))\n",
    "OnSite_Data = pd.read_csv(os.path.join(Path,Filename_external))\n",
    "Stage0_Data = pd.read_csv(os.path.join(Path,Filename_stage0))\n",
    "\n",
    "# Convert to malignant (1) and benign (0), ignoring subtyping\n",
    "Raw_data['subtype'] = Raw_data['subtype'].apply(lambda x: np.clip(x,0,1))\n",
    "\n",
    "# Random split into 2 to 8 (considering label distribution)\n",
    "x_train_index,x_test_index,y_train,y_test=model_selection.train_test_split(\n",
    "    Raw_data.index,Raw_data['subtype'],test_size=0.2,random_state=1,stratify=Raw_data['subtype'])\n",
    "\n",
    "x_train = Raw_data.iloc[x_train_index,2:]\n",
    "x_test = Raw_data.iloc[x_test_index,2:]\n",
    "\n",
    "x_external = OnSite_Data.iloc[:,2:]\n",
    "y_external = OnSite_Data.iloc[:,1]\n",
    "\n",
    "x_stage0 = Stage0_Data.iloc[:,2:]\n",
    "y_stage0 = Stage0_Data.iloc[:,1]"
   ]
  },
  {
   "cell_type": "markdown",
   "id": "1bd04fcc",
   "metadata": {},
   "source": [
    "Optimize C"
   ]
  },
  {
   "cell_type": "code",
   "execution_count": 15,
   "id": "d8c77f19",
   "metadata": {
    "scrolled": true
   },
   "outputs": [
    {
     "name": "stdout",
     "output_type": "stream",
     "text": [
      "Accuracy: 0.715 Sensitivity: 0.000 Specificity: 1.000\n",
      "Accuracy: 0.715 Sensitivity: 0.000 Specificity: 1.000\n",
      "Accuracy: 0.715 Sensitivity: 0.000 Specificity: 1.000\n",
      "Accuracy: 0.757 Sensitivity: 0.195 Specificity: 0.981\n",
      "Accuracy: 0.812 Sensitivity: 0.732 Specificity: 0.845\n",
      "Accuracy: 0.819 Sensitivity: 0.756 Specificity: 0.845\n",
      "Accuracy: 0.847 Sensitivity: 0.780 Specificity: 0.874\n",
      "Accuracy: 0.854 Sensitivity: 0.780 Specificity: 0.883\n",
      "Accuracy: 0.882 Sensitivity: 0.805 Specificity: 0.913\n",
      "Accuracy: 0.882 Sensitivity: 0.805 Specificity: 0.913\n",
      "Accuracy: 0.882 Sensitivity: 0.805 Specificity: 0.913\n",
      "Accuracy: 0.875 Sensitivity: 0.805 Specificity: 0.903\n"
     ]
    }
   ],
   "source": [
    "#C_all = np.logspace(0,14,15,base=2)\n",
    "C_all = [1,5,10,25,125,250,750,1000,1500,2500,5000,10000]\n",
    "result_c=[]\n",
    "\n",
    "for c in C_all:\n",
    "    svc=svm.SVC(C=c, kernel='linear',class_weight={0:0.3,1:0.7})\n",
    "    cv_prediction=model_selection.cross_val_predict(svc,x_train,y_train,cv=5)\n",
    "    accuracy, specificity, sensitivity=performance(y_train,cv_prediction)\n",
    "    result_c.append([c, accuracy, specificity, sensitivity])\n",
    "\n",
    "df_results_c = pd.DataFrame(result_c, columns =['C','Accuracy', 'Specificity', 'Sensitivity'])"
   ]
  },
  {
   "cell_type": "code",
   "execution_count": 20,
   "id": "a531d570",
   "metadata": {},
   "outputs": [
    {
     "data": {
      "text/plain": [
       "1500"
      ]
     },
     "execution_count": 20,
     "metadata": {},
     "output_type": "execute_result"
    }
   ],
   "source": [
    "df_results_c.sort_values(by='Accuracy',ascending=False, ignore_index=True,inplace=True)\n",
    "df_results_c.head()"
   ]
  },
  {
   "cell_type": "markdown",
   "id": "0d2de7d4",
   "metadata": {},
   "source": [
    "Optimize number of features"
   ]
  },
  {
   "cell_type": "code",
   "execution_count": 15,
   "id": "a2564204",
   "metadata": {},
   "outputs": [
    {
     "name": "stdout",
     "output_type": "stream",
     "text": [
      "Accuracy: 0.826 Sensitivity: 0.756 Specificity: 0.854\n",
      "Accuracy: 0.819 Sensitivity: 0.683 Specificity: 0.874\n",
      "Accuracy: 0.840 Sensitivity: 0.707 Specificity: 0.893\n",
      "Accuracy: 0.840 Sensitivity: 0.732 Specificity: 0.883\n",
      "Accuracy: 0.847 Sensitivity: 0.732 Specificity: 0.893\n",
      "Accuracy: 0.854 Sensitivity: 0.732 Specificity: 0.903\n",
      "Accuracy: 0.861 Sensitivity: 0.756 Specificity: 0.903\n",
      "Accuracy: 0.868 Sensitivity: 0.780 Specificity: 0.903\n",
      "Accuracy: 0.868 Sensitivity: 0.780 Specificity: 0.903\n",
      "Accuracy: 0.868 Sensitivity: 0.780 Specificity: 0.903\n",
      "Accuracy: 0.868 Sensitivity: 0.780 Specificity: 0.903\n",
      "Accuracy: 0.875 Sensitivity: 0.805 Specificity: 0.903\n",
      "Accuracy: 0.875 Sensitivity: 0.805 Specificity: 0.903\n",
      "Accuracy: 0.875 Sensitivity: 0.805 Specificity: 0.903\n",
      "Accuracy: 0.875 Sensitivity: 0.805 Specificity: 0.903\n",
      "Accuracy: 0.875 Sensitivity: 0.805 Specificity: 0.903\n",
      "Accuracy: 0.875 Sensitivity: 0.805 Specificity: 0.903\n",
      "Accuracy: 0.868 Sensitivity: 0.805 Specificity: 0.893\n",
      "Accuracy: 0.875 Sensitivity: 0.805 Specificity: 0.903\n",
      "Accuracy: 0.875 Sensitivity: 0.805 Specificity: 0.903\n",
      "Accuracy: 0.875 Sensitivity: 0.805 Specificity: 0.903\n",
      "Accuracy: 0.875 Sensitivity: 0.805 Specificity: 0.903\n",
      "Accuracy: 0.875 Sensitivity: 0.805 Specificity: 0.903\n",
      "Accuracy: 0.875 Sensitivity: 0.805 Specificity: 0.903\n",
      "Accuracy: 0.875 Sensitivity: 0.805 Specificity: 0.903\n",
      "Accuracy: 0.875 Sensitivity: 0.805 Specificity: 0.903\n",
      "Accuracy: 0.875 Sensitivity: 0.805 Specificity: 0.903\n",
      "Accuracy: 0.875 Sensitivity: 0.805 Specificity: 0.903\n",
      "Accuracy: 0.875 Sensitivity: 0.805 Specificity: 0.903\n",
      "Accuracy: 0.875 Sensitivity: 0.805 Specificity: 0.903\n",
      "Accuracy: 0.875 Sensitivity: 0.805 Specificity: 0.903\n",
      "Accuracy: 0.875 Sensitivity: 0.805 Specificity: 0.903\n",
      "Accuracy: 0.875 Sensitivity: 0.805 Specificity: 0.903\n",
      "Accuracy: 0.875 Sensitivity: 0.805 Specificity: 0.903\n",
      "Accuracy: 0.875 Sensitivity: 0.805 Specificity: 0.903\n",
      "Accuracy: 0.875 Sensitivity: 0.805 Specificity: 0.903\n",
      "Accuracy: 0.875 Sensitivity: 0.805 Specificity: 0.903\n",
      "Accuracy: 0.875 Sensitivity: 0.805 Specificity: 0.903\n",
      "Accuracy: 0.875 Sensitivity: 0.805 Specificity: 0.903\n",
      "Accuracy: 0.875 Sensitivity: 0.805 Specificity: 0.903\n",
      "Accuracy: 0.875 Sensitivity: 0.805 Specificity: 0.903\n",
      "Accuracy: 0.875 Sensitivity: 0.805 Specificity: 0.903\n",
      "Accuracy: 0.875 Sensitivity: 0.805 Specificity: 0.903\n",
      "Accuracy: 0.875 Sensitivity: 0.805 Specificity: 0.903\n",
      "Accuracy: 0.875 Sensitivity: 0.805 Specificity: 0.903\n",
      "Accuracy: 0.875 Sensitivity: 0.805 Specificity: 0.903\n",
      "Accuracy: 0.875 Sensitivity: 0.805 Specificity: 0.903\n",
      "Accuracy: 0.875 Sensitivity: 0.805 Specificity: 0.903\n",
      "Accuracy: 0.875 Sensitivity: 0.805 Specificity: 0.903\n",
      "Accuracy: 0.875 Sensitivity: 0.805 Specificity: 0.903\n",
      "Accuracy: 0.875 Sensitivity: 0.805 Specificity: 0.903\n",
      "Accuracy: 0.875 Sensitivity: 0.805 Specificity: 0.903\n",
      "Accuracy: 0.875 Sensitivity: 0.805 Specificity: 0.903\n",
      "Accuracy: 0.875 Sensitivity: 0.805 Specificity: 0.903\n",
      "Accuracy: 0.875 Sensitivity: 0.805 Specificity: 0.903\n",
      "Accuracy: 0.875 Sensitivity: 0.805 Specificity: 0.903\n",
      "Accuracy: 0.882 Sensitivity: 0.805 Specificity: 0.913\n",
      "Accuracy: 0.882 Sensitivity: 0.805 Specificity: 0.913\n",
      "Accuracy: 0.882 Sensitivity: 0.805 Specificity: 0.913\n",
      "Accuracy: 0.882 Sensitivity: 0.805 Specificity: 0.913\n",
      "Accuracy: 0.882 Sensitivity: 0.805 Specificity: 0.913\n",
      "Accuracy: 0.882 Sensitivity: 0.805 Specificity: 0.913\n",
      "Accuracy: 0.882 Sensitivity: 0.805 Specificity: 0.913\n",
      "Accuracy: 0.882 Sensitivity: 0.805 Specificity: 0.913\n",
      "Accuracy: 0.882 Sensitivity: 0.805 Specificity: 0.913\n",
      "Accuracy: 0.882 Sensitivity: 0.805 Specificity: 0.913\n",
      "Accuracy: 0.882 Sensitivity: 0.805 Specificity: 0.913\n",
      "Accuracy: 0.882 Sensitivity: 0.805 Specificity: 0.913\n",
      "Accuracy: 0.882 Sensitivity: 0.805 Specificity: 0.913\n",
      "Accuracy: 0.882 Sensitivity: 0.805 Specificity: 0.913\n",
      "Accuracy: 0.882 Sensitivity: 0.805 Specificity: 0.913\n",
      "Accuracy: 0.882 Sensitivity: 0.805 Specificity: 0.913\n",
      "Accuracy: 0.882 Sensitivity: 0.805 Specificity: 0.913\n",
      "Accuracy: 0.882 Sensitivity: 0.805 Specificity: 0.913\n",
      "Accuracy: 0.882 Sensitivity: 0.805 Specificity: 0.913\n",
      "Accuracy: 0.882 Sensitivity: 0.805 Specificity: 0.913\n",
      "Accuracy: 0.882 Sensitivity: 0.805 Specificity: 0.913\n",
      "Accuracy: 0.882 Sensitivity: 0.805 Specificity: 0.913\n",
      "Accuracy: 0.882 Sensitivity: 0.805 Specificity: 0.913\n",
      "Accuracy: 0.882 Sensitivity: 0.805 Specificity: 0.913\n",
      "Accuracy: 0.882 Sensitivity: 0.805 Specificity: 0.913\n",
      "Accuracy: 0.882 Sensitivity: 0.805 Specificity: 0.913\n",
      "Accuracy: 0.882 Sensitivity: 0.805 Specificity: 0.913\n",
      "Accuracy: 0.882 Sensitivity: 0.805 Specificity: 0.913\n",
      "Accuracy: 0.882 Sensitivity: 0.805 Specificity: 0.913\n",
      "Accuracy: 0.882 Sensitivity: 0.805 Specificity: 0.913\n",
      "Accuracy: 0.882 Sensitivity: 0.805 Specificity: 0.913\n",
      "Accuracy: 0.882 Sensitivity: 0.805 Specificity: 0.913\n",
      "Accuracy: 0.882 Sensitivity: 0.805 Specificity: 0.913\n",
      "Accuracy: 0.882 Sensitivity: 0.805 Specificity: 0.913\n",
      "Accuracy: 0.882 Sensitivity: 0.805 Specificity: 0.913\n",
      "Accuracy: 0.882 Sensitivity: 0.805 Specificity: 0.913\n",
      "Accuracy: 0.882 Sensitivity: 0.805 Specificity: 0.913\n",
      "Accuracy: 0.882 Sensitivity: 0.805 Specificity: 0.913\n",
      "Accuracy: 0.882 Sensitivity: 0.805 Specificity: 0.913\n",
      "Accuracy: 0.882 Sensitivity: 0.805 Specificity: 0.913\n",
      "Accuracy: 0.882 Sensitivity: 0.805 Specificity: 0.913\n",
      "Accuracy: 0.882 Sensitivity: 0.805 Specificity: 0.913\n",
      "Accuracy: 0.882 Sensitivity: 0.805 Specificity: 0.913\n"
     ]
    }
   ],
   "source": [
    "result_feature=[]\n",
    "\n",
    "for i in range(5,500,5):\n",
    "    svc=svm.SVC(C=1500, kernel='linear',class_weight={0:0.3,1:0.7})\n",
    "    svc=feature_selection.RFE(svc,n_features_to_select=i)\n",
    "    cv_prediction=model_selection.cross_val_predict(svc,x_train,y_train,cv=5)\n",
    "    accuracy, specificity, sensitivity=performance(y_train,cv_prediction)\n",
    "    result_feature.append([i, accuracy, specificity, sensitivity])\n",
    "\n",
    "df_results_feature = pd.DataFrame(result_feature, columns =['Features','Accuracy', 'Specificity', 'Sensitivity'])"
   ]
  },
  {
   "cell_type": "code",
   "execution_count": 17,
   "id": "ab1b18c6",
   "metadata": {},
   "outputs": [
    {
     "data": {
      "text/html": [
       "<div>\n",
       "<style scoped>\n",
       "    .dataframe tbody tr th:only-of-type {\n",
       "        vertical-align: middle;\n",
       "    }\n",
       "\n",
       "    .dataframe tbody tr th {\n",
       "        vertical-align: top;\n",
       "    }\n",
       "\n",
       "    .dataframe thead th {\n",
       "        text-align: right;\n",
       "    }\n",
       "</style>\n",
       "<table border=\"1\" class=\"dataframe\">\n",
       "  <thead>\n",
       "    <tr style=\"text-align: right;\">\n",
       "      <th></th>\n",
       "      <th>Features</th>\n",
       "      <th>Accuracy</th>\n",
       "      <th>Specificity</th>\n",
       "      <th>Sensitivity</th>\n",
       "    </tr>\n",
       "  </thead>\n",
       "  <tbody>\n",
       "    <tr>\n",
       "      <th>56</th>\n",
       "      <td>285</td>\n",
       "      <td>0.881944</td>\n",
       "      <td>0.912621</td>\n",
       "      <td>0.804878</td>\n",
       "    </tr>\n",
       "    <tr>\n",
       "      <th>57</th>\n",
       "      <td>290</td>\n",
       "      <td>0.881944</td>\n",
       "      <td>0.912621</td>\n",
       "      <td>0.804878</td>\n",
       "    </tr>\n",
       "    <tr>\n",
       "      <th>58</th>\n",
       "      <td>295</td>\n",
       "      <td>0.881944</td>\n",
       "      <td>0.912621</td>\n",
       "      <td>0.804878</td>\n",
       "    </tr>\n",
       "    <tr>\n",
       "      <th>59</th>\n",
       "      <td>300</td>\n",
       "      <td>0.881944</td>\n",
       "      <td>0.912621</td>\n",
       "      <td>0.804878</td>\n",
       "    </tr>\n",
       "    <tr>\n",
       "      <th>60</th>\n",
       "      <td>305</td>\n",
       "      <td>0.881944</td>\n",
       "      <td>0.912621</td>\n",
       "      <td>0.804878</td>\n",
       "    </tr>\n",
       "    <tr>\n",
       "      <th>61</th>\n",
       "      <td>310</td>\n",
       "      <td>0.881944</td>\n",
       "      <td>0.912621</td>\n",
       "      <td>0.804878</td>\n",
       "    </tr>\n",
       "    <tr>\n",
       "      <th>62</th>\n",
       "      <td>315</td>\n",
       "      <td>0.881944</td>\n",
       "      <td>0.912621</td>\n",
       "      <td>0.804878</td>\n",
       "    </tr>\n",
       "    <tr>\n",
       "      <th>63</th>\n",
       "      <td>320</td>\n",
       "      <td>0.881944</td>\n",
       "      <td>0.912621</td>\n",
       "      <td>0.804878</td>\n",
       "    </tr>\n",
       "    <tr>\n",
       "      <th>64</th>\n",
       "      <td>325</td>\n",
       "      <td>0.881944</td>\n",
       "      <td>0.912621</td>\n",
       "      <td>0.804878</td>\n",
       "    </tr>\n",
       "    <tr>\n",
       "      <th>65</th>\n",
       "      <td>330</td>\n",
       "      <td>0.881944</td>\n",
       "      <td>0.912621</td>\n",
       "      <td>0.804878</td>\n",
       "    </tr>\n",
       "    <tr>\n",
       "      <th>66</th>\n",
       "      <td>335</td>\n",
       "      <td>0.881944</td>\n",
       "      <td>0.912621</td>\n",
       "      <td>0.804878</td>\n",
       "    </tr>\n",
       "    <tr>\n",
       "      <th>67</th>\n",
       "      <td>340</td>\n",
       "      <td>0.881944</td>\n",
       "      <td>0.912621</td>\n",
       "      <td>0.804878</td>\n",
       "    </tr>\n",
       "    <tr>\n",
       "      <th>68</th>\n",
       "      <td>345</td>\n",
       "      <td>0.881944</td>\n",
       "      <td>0.912621</td>\n",
       "      <td>0.804878</td>\n",
       "    </tr>\n",
       "    <tr>\n",
       "      <th>69</th>\n",
       "      <td>350</td>\n",
       "      <td>0.881944</td>\n",
       "      <td>0.912621</td>\n",
       "      <td>0.804878</td>\n",
       "    </tr>\n",
       "    <tr>\n",
       "      <th>70</th>\n",
       "      <td>355</td>\n",
       "      <td>0.881944</td>\n",
       "      <td>0.912621</td>\n",
       "      <td>0.804878</td>\n",
       "    </tr>\n",
       "    <tr>\n",
       "      <th>71</th>\n",
       "      <td>360</td>\n",
       "      <td>0.881944</td>\n",
       "      <td>0.912621</td>\n",
       "      <td>0.804878</td>\n",
       "    </tr>\n",
       "    <tr>\n",
       "      <th>72</th>\n",
       "      <td>365</td>\n",
       "      <td>0.881944</td>\n",
       "      <td>0.912621</td>\n",
       "      <td>0.804878</td>\n",
       "    </tr>\n",
       "    <tr>\n",
       "      <th>73</th>\n",
       "      <td>370</td>\n",
       "      <td>0.881944</td>\n",
       "      <td>0.912621</td>\n",
       "      <td>0.804878</td>\n",
       "    </tr>\n",
       "    <tr>\n",
       "      <th>74</th>\n",
       "      <td>375</td>\n",
       "      <td>0.881944</td>\n",
       "      <td>0.912621</td>\n",
       "      <td>0.804878</td>\n",
       "    </tr>\n",
       "    <tr>\n",
       "      <th>75</th>\n",
       "      <td>380</td>\n",
       "      <td>0.881944</td>\n",
       "      <td>0.912621</td>\n",
       "      <td>0.804878</td>\n",
       "    </tr>\n",
       "    <tr>\n",
       "      <th>76</th>\n",
       "      <td>385</td>\n",
       "      <td>0.881944</td>\n",
       "      <td>0.912621</td>\n",
       "      <td>0.804878</td>\n",
       "    </tr>\n",
       "    <tr>\n",
       "      <th>77</th>\n",
       "      <td>390</td>\n",
       "      <td>0.881944</td>\n",
       "      <td>0.912621</td>\n",
       "      <td>0.804878</td>\n",
       "    </tr>\n",
       "    <tr>\n",
       "      <th>78</th>\n",
       "      <td>395</td>\n",
       "      <td>0.881944</td>\n",
       "      <td>0.912621</td>\n",
       "      <td>0.804878</td>\n",
       "    </tr>\n",
       "    <tr>\n",
       "      <th>79</th>\n",
       "      <td>400</td>\n",
       "      <td>0.881944</td>\n",
       "      <td>0.912621</td>\n",
       "      <td>0.804878</td>\n",
       "    </tr>\n",
       "    <tr>\n",
       "      <th>80</th>\n",
       "      <td>405</td>\n",
       "      <td>0.881944</td>\n",
       "      <td>0.912621</td>\n",
       "      <td>0.804878</td>\n",
       "    </tr>\n",
       "    <tr>\n",
       "      <th>81</th>\n",
       "      <td>410</td>\n",
       "      <td>0.881944</td>\n",
       "      <td>0.912621</td>\n",
       "      <td>0.804878</td>\n",
       "    </tr>\n",
       "    <tr>\n",
       "      <th>82</th>\n",
       "      <td>415</td>\n",
       "      <td>0.881944</td>\n",
       "      <td>0.912621</td>\n",
       "      <td>0.804878</td>\n",
       "    </tr>\n",
       "    <tr>\n",
       "      <th>83</th>\n",
       "      <td>420</td>\n",
       "      <td>0.881944</td>\n",
       "      <td>0.912621</td>\n",
       "      <td>0.804878</td>\n",
       "    </tr>\n",
       "    <tr>\n",
       "      <th>84</th>\n",
       "      <td>425</td>\n",
       "      <td>0.881944</td>\n",
       "      <td>0.912621</td>\n",
       "      <td>0.804878</td>\n",
       "    </tr>\n",
       "    <tr>\n",
       "      <th>85</th>\n",
       "      <td>430</td>\n",
       "      <td>0.881944</td>\n",
       "      <td>0.912621</td>\n",
       "      <td>0.804878</td>\n",
       "    </tr>\n",
       "    <tr>\n",
       "      <th>86</th>\n",
       "      <td>435</td>\n",
       "      <td>0.881944</td>\n",
       "      <td>0.912621</td>\n",
       "      <td>0.804878</td>\n",
       "    </tr>\n",
       "    <tr>\n",
       "      <th>87</th>\n",
       "      <td>440</td>\n",
       "      <td>0.881944</td>\n",
       "      <td>0.912621</td>\n",
       "      <td>0.804878</td>\n",
       "    </tr>\n",
       "    <tr>\n",
       "      <th>88</th>\n",
       "      <td>445</td>\n",
       "      <td>0.881944</td>\n",
       "      <td>0.912621</td>\n",
       "      <td>0.804878</td>\n",
       "    </tr>\n",
       "    <tr>\n",
       "      <th>89</th>\n",
       "      <td>450</td>\n",
       "      <td>0.881944</td>\n",
       "      <td>0.912621</td>\n",
       "      <td>0.804878</td>\n",
       "    </tr>\n",
       "    <tr>\n",
       "      <th>90</th>\n",
       "      <td>455</td>\n",
       "      <td>0.881944</td>\n",
       "      <td>0.912621</td>\n",
       "      <td>0.804878</td>\n",
       "    </tr>\n",
       "    <tr>\n",
       "      <th>91</th>\n",
       "      <td>460</td>\n",
       "      <td>0.881944</td>\n",
       "      <td>0.912621</td>\n",
       "      <td>0.804878</td>\n",
       "    </tr>\n",
       "    <tr>\n",
       "      <th>92</th>\n",
       "      <td>465</td>\n",
       "      <td>0.881944</td>\n",
       "      <td>0.912621</td>\n",
       "      <td>0.804878</td>\n",
       "    </tr>\n",
       "    <tr>\n",
       "      <th>93</th>\n",
       "      <td>470</td>\n",
       "      <td>0.881944</td>\n",
       "      <td>0.912621</td>\n",
       "      <td>0.804878</td>\n",
       "    </tr>\n",
       "    <tr>\n",
       "      <th>94</th>\n",
       "      <td>475</td>\n",
       "      <td>0.881944</td>\n",
       "      <td>0.912621</td>\n",
       "      <td>0.804878</td>\n",
       "    </tr>\n",
       "    <tr>\n",
       "      <th>95</th>\n",
       "      <td>480</td>\n",
       "      <td>0.881944</td>\n",
       "      <td>0.912621</td>\n",
       "      <td>0.804878</td>\n",
       "    </tr>\n",
       "    <tr>\n",
       "      <th>96</th>\n",
       "      <td>485</td>\n",
       "      <td>0.881944</td>\n",
       "      <td>0.912621</td>\n",
       "      <td>0.804878</td>\n",
       "    </tr>\n",
       "    <tr>\n",
       "      <th>97</th>\n",
       "      <td>490</td>\n",
       "      <td>0.881944</td>\n",
       "      <td>0.912621</td>\n",
       "      <td>0.804878</td>\n",
       "    </tr>\n",
       "    <tr>\n",
       "      <th>98</th>\n",
       "      <td>495</td>\n",
       "      <td>0.881944</td>\n",
       "      <td>0.912621</td>\n",
       "      <td>0.804878</td>\n",
       "    </tr>\n",
       "    <tr>\n",
       "      <th>11</th>\n",
       "      <td>60</td>\n",
       "      <td>0.875000</td>\n",
       "      <td>0.902913</td>\n",
       "      <td>0.804878</td>\n",
       "    </tr>\n",
       "    <tr>\n",
       "      <th>12</th>\n",
       "      <td>65</td>\n",
       "      <td>0.875000</td>\n",
       "      <td>0.902913</td>\n",
       "      <td>0.804878</td>\n",
       "    </tr>\n",
       "    <tr>\n",
       "      <th>13</th>\n",
       "      <td>70</td>\n",
       "      <td>0.875000</td>\n",
       "      <td>0.902913</td>\n",
       "      <td>0.804878</td>\n",
       "    </tr>\n",
       "    <tr>\n",
       "      <th>14</th>\n",
       "      <td>75</td>\n",
       "      <td>0.875000</td>\n",
       "      <td>0.902913</td>\n",
       "      <td>0.804878</td>\n",
       "    </tr>\n",
       "    <tr>\n",
       "      <th>15</th>\n",
       "      <td>80</td>\n",
       "      <td>0.875000</td>\n",
       "      <td>0.902913</td>\n",
       "      <td>0.804878</td>\n",
       "    </tr>\n",
       "    <tr>\n",
       "      <th>16</th>\n",
       "      <td>85</td>\n",
       "      <td>0.875000</td>\n",
       "      <td>0.902913</td>\n",
       "      <td>0.804878</td>\n",
       "    </tr>\n",
       "    <tr>\n",
       "      <th>18</th>\n",
       "      <td>95</td>\n",
       "      <td>0.875000</td>\n",
       "      <td>0.902913</td>\n",
       "      <td>0.804878</td>\n",
       "    </tr>\n",
       "  </tbody>\n",
       "</table>\n",
       "</div>"
      ],
      "text/plain": [
       "    Features  Accuracy  Specificity  Sensitivity\n",
       "56       285  0.881944     0.912621     0.804878\n",
       "57       290  0.881944     0.912621     0.804878\n",
       "58       295  0.881944     0.912621     0.804878\n",
       "59       300  0.881944     0.912621     0.804878\n",
       "60       305  0.881944     0.912621     0.804878\n",
       "61       310  0.881944     0.912621     0.804878\n",
       "62       315  0.881944     0.912621     0.804878\n",
       "63       320  0.881944     0.912621     0.804878\n",
       "64       325  0.881944     0.912621     0.804878\n",
       "65       330  0.881944     0.912621     0.804878\n",
       "66       335  0.881944     0.912621     0.804878\n",
       "67       340  0.881944     0.912621     0.804878\n",
       "68       345  0.881944     0.912621     0.804878\n",
       "69       350  0.881944     0.912621     0.804878\n",
       "70       355  0.881944     0.912621     0.804878\n",
       "71       360  0.881944     0.912621     0.804878\n",
       "72       365  0.881944     0.912621     0.804878\n",
       "73       370  0.881944     0.912621     0.804878\n",
       "74       375  0.881944     0.912621     0.804878\n",
       "75       380  0.881944     0.912621     0.804878\n",
       "76       385  0.881944     0.912621     0.804878\n",
       "77       390  0.881944     0.912621     0.804878\n",
       "78       395  0.881944     0.912621     0.804878\n",
       "79       400  0.881944     0.912621     0.804878\n",
       "80       405  0.881944     0.912621     0.804878\n",
       "81       410  0.881944     0.912621     0.804878\n",
       "82       415  0.881944     0.912621     0.804878\n",
       "83       420  0.881944     0.912621     0.804878\n",
       "84       425  0.881944     0.912621     0.804878\n",
       "85       430  0.881944     0.912621     0.804878\n",
       "86       435  0.881944     0.912621     0.804878\n",
       "87       440  0.881944     0.912621     0.804878\n",
       "88       445  0.881944     0.912621     0.804878\n",
       "89       450  0.881944     0.912621     0.804878\n",
       "90       455  0.881944     0.912621     0.804878\n",
       "91       460  0.881944     0.912621     0.804878\n",
       "92       465  0.881944     0.912621     0.804878\n",
       "93       470  0.881944     0.912621     0.804878\n",
       "94       475  0.881944     0.912621     0.804878\n",
       "95       480  0.881944     0.912621     0.804878\n",
       "96       485  0.881944     0.912621     0.804878\n",
       "97       490  0.881944     0.912621     0.804878\n",
       "98       495  0.881944     0.912621     0.804878\n",
       "11        60  0.875000     0.902913     0.804878\n",
       "12        65  0.875000     0.902913     0.804878\n",
       "13        70  0.875000     0.902913     0.804878\n",
       "14        75  0.875000     0.902913     0.804878\n",
       "15        80  0.875000     0.902913     0.804878\n",
       "16        85  0.875000     0.902913     0.804878\n",
       "18        95  0.875000     0.902913     0.804878"
      ]
     },
     "execution_count": 17,
     "metadata": {},
     "output_type": "execute_result"
    }
   ],
   "source": [
    "df_results_feature.sort_values(by=['Accuracy','Features'],ascending=[False,True], inplace=True)\n",
    "df_results_feature.head(50)"
   ]
  },
  {
   "cell_type": "markdown",
   "id": "514538f5",
   "metadata": {},
   "source": [
    "Plot optimization figures"
   ]
  },
  {
   "cell_type": "code",
   "execution_count": 64,
   "id": "8316d0fe",
   "metadata": {},
   "outputs": [
    {
     "data": {
      "application/vnd.plotly.v1+json": {
       "config": {
        "plotlyServerURL": "https://plot.ly"
       },
       "data": [
        {
         "line": {
          "color": "#F4A016",
          "width": 5
         },
         "marker": {
          "size": 10
         },
         "name": "Sensitivity",
         "type": "scatter",
         "x": [
          1,
          5,
          10,
          25,
          125,
          250,
          750,
          1000,
          1500,
          2500,
          5000,
          10000
         ],
         "y": [
          0,
          0,
          0,
          19.51219512195122,
          73.17073170731707,
          75.60975609756098,
          78.04878048780488,
          78.04878048780488,
          80.48780487804879,
          80.48780487804879,
          80.48780487804879,
          80.48780487804879
         ]
        },
        {
         "line": {
          "color": "#157B3A",
          "width": 5
         },
         "marker": {
          "size": 10
         },
         "name": "Specificity",
         "type": "scatter",
         "x": [
          1,
          5,
          10,
          25,
          125,
          250,
          750,
          1000,
          1500,
          2500,
          5000,
          10000
         ],
         "y": [
          100,
          100,
          100,
          98.05825242718447,
          84.46601941747572,
          84.46601941747572,
          87.37864077669903,
          88.3495145631068,
          91.2621359223301,
          91.2621359223301,
          91.2621359223301,
          90.29126213592234
         ]
        },
        {
         "line": {
          "color": "#A63354",
          "width": 5
         },
         "marker": {
          "size": 10
         },
         "name": "Accuracy",
         "type": "scatter",
         "x": [
          1,
          5,
          10,
          25,
          125,
          250,
          750,
          1000,
          1500,
          2500,
          5000,
          10000
         ],
         "y": [
          71.52777777777779,
          71.52777777777779,
          71.52777777777779,
          75.69444444444444,
          81.25,
          81.94444444444444,
          84.72222222222221,
          85.41666666666666,
          88.19444444444444,
          88.19444444444444,
          88.19444444444444,
          87.5
         ]
        },
        {
         "line": {
          "color": "black",
          "dash": "dash",
          "width": 3
         },
         "mode": "lines",
         "showlegend": false,
         "type": "scatter",
         "x": [
          1500,
          1500
         ],
         "y": [
          0,
          100
         ]
        }
       ],
       "layout": {
        "autosize": false,
        "font": {
         "size": 14
        },
        "height": 370,
        "legend": {
         "bordercolor": "Black",
         "borderwidth": 1,
         "x": 1.1,
         "xanchor": "right",
         "y": 0.05,
         "yanchor": "bottom"
        },
        "template": {
         "data": {
          "bar": [
           {
            "error_x": {
             "color": "rgb(36,36,36)"
            },
            "error_y": {
             "color": "rgb(36,36,36)"
            },
            "marker": {
             "line": {
              "color": "white",
              "width": 0.5
             },
             "pattern": {
              "fillmode": "overlay",
              "size": 10,
              "solidity": 0.2
             }
            },
            "type": "bar"
           }
          ],
          "barpolar": [
           {
            "marker": {
             "line": {
              "color": "white",
              "width": 0.5
             },
             "pattern": {
              "fillmode": "overlay",
              "size": 10,
              "solidity": 0.2
             }
            },
            "type": "barpolar"
           }
          ],
          "carpet": [
           {
            "aaxis": {
             "endlinecolor": "rgb(36,36,36)",
             "gridcolor": "white",
             "linecolor": "white",
             "minorgridcolor": "white",
             "startlinecolor": "rgb(36,36,36)"
            },
            "baxis": {
             "endlinecolor": "rgb(36,36,36)",
             "gridcolor": "white",
             "linecolor": "white",
             "minorgridcolor": "white",
             "startlinecolor": "rgb(36,36,36)"
            },
            "type": "carpet"
           }
          ],
          "choropleth": [
           {
            "colorbar": {
             "outlinewidth": 1,
             "tickcolor": "rgb(36,36,36)",
             "ticks": "outside"
            },
            "type": "choropleth"
           }
          ],
          "contour": [
           {
            "colorbar": {
             "outlinewidth": 1,
             "tickcolor": "rgb(36,36,36)",
             "ticks": "outside"
            },
            "colorscale": [
             [
              0,
              "#440154"
             ],
             [
              0.1111111111111111,
              "#482878"
             ],
             [
              0.2222222222222222,
              "#3e4989"
             ],
             [
              0.3333333333333333,
              "#31688e"
             ],
             [
              0.4444444444444444,
              "#26828e"
             ],
             [
              0.5555555555555556,
              "#1f9e89"
             ],
             [
              0.6666666666666666,
              "#35b779"
             ],
             [
              0.7777777777777778,
              "#6ece58"
             ],
             [
              0.8888888888888888,
              "#b5de2b"
             ],
             [
              1,
              "#fde725"
             ]
            ],
            "type": "contour"
           }
          ],
          "contourcarpet": [
           {
            "colorbar": {
             "outlinewidth": 1,
             "tickcolor": "rgb(36,36,36)",
             "ticks": "outside"
            },
            "type": "contourcarpet"
           }
          ],
          "heatmap": [
           {
            "colorbar": {
             "outlinewidth": 1,
             "tickcolor": "rgb(36,36,36)",
             "ticks": "outside"
            },
            "colorscale": [
             [
              0,
              "#440154"
             ],
             [
              0.1111111111111111,
              "#482878"
             ],
             [
              0.2222222222222222,
              "#3e4989"
             ],
             [
              0.3333333333333333,
              "#31688e"
             ],
             [
              0.4444444444444444,
              "#26828e"
             ],
             [
              0.5555555555555556,
              "#1f9e89"
             ],
             [
              0.6666666666666666,
              "#35b779"
             ],
             [
              0.7777777777777778,
              "#6ece58"
             ],
             [
              0.8888888888888888,
              "#b5de2b"
             ],
             [
              1,
              "#fde725"
             ]
            ],
            "type": "heatmap"
           }
          ],
          "heatmapgl": [
           {
            "colorbar": {
             "outlinewidth": 1,
             "tickcolor": "rgb(36,36,36)",
             "ticks": "outside"
            },
            "colorscale": [
             [
              0,
              "#440154"
             ],
             [
              0.1111111111111111,
              "#482878"
             ],
             [
              0.2222222222222222,
              "#3e4989"
             ],
             [
              0.3333333333333333,
              "#31688e"
             ],
             [
              0.4444444444444444,
              "#26828e"
             ],
             [
              0.5555555555555556,
              "#1f9e89"
             ],
             [
              0.6666666666666666,
              "#35b779"
             ],
             [
              0.7777777777777778,
              "#6ece58"
             ],
             [
              0.8888888888888888,
              "#b5de2b"
             ],
             [
              1,
              "#fde725"
             ]
            ],
            "type": "heatmapgl"
           }
          ],
          "histogram": [
           {
            "marker": {
             "line": {
              "color": "white",
              "width": 0.6
             }
            },
            "type": "histogram"
           }
          ],
          "histogram2d": [
           {
            "colorbar": {
             "outlinewidth": 1,
             "tickcolor": "rgb(36,36,36)",
             "ticks": "outside"
            },
            "colorscale": [
             [
              0,
              "#440154"
             ],
             [
              0.1111111111111111,
              "#482878"
             ],
             [
              0.2222222222222222,
              "#3e4989"
             ],
             [
              0.3333333333333333,
              "#31688e"
             ],
             [
              0.4444444444444444,
              "#26828e"
             ],
             [
              0.5555555555555556,
              "#1f9e89"
             ],
             [
              0.6666666666666666,
              "#35b779"
             ],
             [
              0.7777777777777778,
              "#6ece58"
             ],
             [
              0.8888888888888888,
              "#b5de2b"
             ],
             [
              1,
              "#fde725"
             ]
            ],
            "type": "histogram2d"
           }
          ],
          "histogram2dcontour": [
           {
            "colorbar": {
             "outlinewidth": 1,
             "tickcolor": "rgb(36,36,36)",
             "ticks": "outside"
            },
            "colorscale": [
             [
              0,
              "#440154"
             ],
             [
              0.1111111111111111,
              "#482878"
             ],
             [
              0.2222222222222222,
              "#3e4989"
             ],
             [
              0.3333333333333333,
              "#31688e"
             ],
             [
              0.4444444444444444,
              "#26828e"
             ],
             [
              0.5555555555555556,
              "#1f9e89"
             ],
             [
              0.6666666666666666,
              "#35b779"
             ],
             [
              0.7777777777777778,
              "#6ece58"
             ],
             [
              0.8888888888888888,
              "#b5de2b"
             ],
             [
              1,
              "#fde725"
             ]
            ],
            "type": "histogram2dcontour"
           }
          ],
          "mesh3d": [
           {
            "colorbar": {
             "outlinewidth": 1,
             "tickcolor": "rgb(36,36,36)",
             "ticks": "outside"
            },
            "type": "mesh3d"
           }
          ],
          "parcoords": [
           {
            "line": {
             "colorbar": {
              "outlinewidth": 1,
              "tickcolor": "rgb(36,36,36)",
              "ticks": "outside"
             }
            },
            "type": "parcoords"
           }
          ],
          "pie": [
           {
            "automargin": true,
            "type": "pie"
           }
          ],
          "scatter": [
           {
            "fillpattern": {
             "fillmode": "overlay",
             "size": 10,
             "solidity": 0.2
            },
            "type": "scatter"
           }
          ],
          "scatter3d": [
           {
            "line": {
             "colorbar": {
              "outlinewidth": 1,
              "tickcolor": "rgb(36,36,36)",
              "ticks": "outside"
             }
            },
            "marker": {
             "colorbar": {
              "outlinewidth": 1,
              "tickcolor": "rgb(36,36,36)",
              "ticks": "outside"
             }
            },
            "type": "scatter3d"
           }
          ],
          "scattercarpet": [
           {
            "marker": {
             "colorbar": {
              "outlinewidth": 1,
              "tickcolor": "rgb(36,36,36)",
              "ticks": "outside"
             }
            },
            "type": "scattercarpet"
           }
          ],
          "scattergeo": [
           {
            "marker": {
             "colorbar": {
              "outlinewidth": 1,
              "tickcolor": "rgb(36,36,36)",
              "ticks": "outside"
             }
            },
            "type": "scattergeo"
           }
          ],
          "scattergl": [
           {
            "marker": {
             "colorbar": {
              "outlinewidth": 1,
              "tickcolor": "rgb(36,36,36)",
              "ticks": "outside"
             }
            },
            "type": "scattergl"
           }
          ],
          "scattermapbox": [
           {
            "marker": {
             "colorbar": {
              "outlinewidth": 1,
              "tickcolor": "rgb(36,36,36)",
              "ticks": "outside"
             }
            },
            "type": "scattermapbox"
           }
          ],
          "scatterpolar": [
           {
            "marker": {
             "colorbar": {
              "outlinewidth": 1,
              "tickcolor": "rgb(36,36,36)",
              "ticks": "outside"
             }
            },
            "type": "scatterpolar"
           }
          ],
          "scatterpolargl": [
           {
            "marker": {
             "colorbar": {
              "outlinewidth": 1,
              "tickcolor": "rgb(36,36,36)",
              "ticks": "outside"
             }
            },
            "type": "scatterpolargl"
           }
          ],
          "scatterternary": [
           {
            "marker": {
             "colorbar": {
              "outlinewidth": 1,
              "tickcolor": "rgb(36,36,36)",
              "ticks": "outside"
             }
            },
            "type": "scatterternary"
           }
          ],
          "surface": [
           {
            "colorbar": {
             "outlinewidth": 1,
             "tickcolor": "rgb(36,36,36)",
             "ticks": "outside"
            },
            "colorscale": [
             [
              0,
              "#440154"
             ],
             [
              0.1111111111111111,
              "#482878"
             ],
             [
              0.2222222222222222,
              "#3e4989"
             ],
             [
              0.3333333333333333,
              "#31688e"
             ],
             [
              0.4444444444444444,
              "#26828e"
             ],
             [
              0.5555555555555556,
              "#1f9e89"
             ],
             [
              0.6666666666666666,
              "#35b779"
             ],
             [
              0.7777777777777778,
              "#6ece58"
             ],
             [
              0.8888888888888888,
              "#b5de2b"
             ],
             [
              1,
              "#fde725"
             ]
            ],
            "type": "surface"
           }
          ],
          "table": [
           {
            "cells": {
             "fill": {
              "color": "rgb(237,237,237)"
             },
             "line": {
              "color": "white"
             }
            },
            "header": {
             "fill": {
              "color": "rgb(217,217,217)"
             },
             "line": {
              "color": "white"
             }
            },
            "type": "table"
           }
          ]
         },
         "layout": {
          "annotationdefaults": {
           "arrowhead": 0,
           "arrowwidth": 1
          },
          "autotypenumbers": "strict",
          "coloraxis": {
           "colorbar": {
            "outlinewidth": 1,
            "tickcolor": "rgb(36,36,36)",
            "ticks": "outside"
           }
          },
          "colorscale": {
           "diverging": [
            [
             0,
             "rgb(103,0,31)"
            ],
            [
             0.1,
             "rgb(178,24,43)"
            ],
            [
             0.2,
             "rgb(214,96,77)"
            ],
            [
             0.3,
             "rgb(244,165,130)"
            ],
            [
             0.4,
             "rgb(253,219,199)"
            ],
            [
             0.5,
             "rgb(247,247,247)"
            ],
            [
             0.6,
             "rgb(209,229,240)"
            ],
            [
             0.7,
             "rgb(146,197,222)"
            ],
            [
             0.8,
             "rgb(67,147,195)"
            ],
            [
             0.9,
             "rgb(33,102,172)"
            ],
            [
             1,
             "rgb(5,48,97)"
            ]
           ],
           "sequential": [
            [
             0,
             "#440154"
            ],
            [
             0.1111111111111111,
             "#482878"
            ],
            [
             0.2222222222222222,
             "#3e4989"
            ],
            [
             0.3333333333333333,
             "#31688e"
            ],
            [
             0.4444444444444444,
             "#26828e"
            ],
            [
             0.5555555555555556,
             "#1f9e89"
            ],
            [
             0.6666666666666666,
             "#35b779"
            ],
            [
             0.7777777777777778,
             "#6ece58"
            ],
            [
             0.8888888888888888,
             "#b5de2b"
            ],
            [
             1,
             "#fde725"
            ]
           ],
           "sequentialminus": [
            [
             0,
             "#440154"
            ],
            [
             0.1111111111111111,
             "#482878"
            ],
            [
             0.2222222222222222,
             "#3e4989"
            ],
            [
             0.3333333333333333,
             "#31688e"
            ],
            [
             0.4444444444444444,
             "#26828e"
            ],
            [
             0.5555555555555556,
             "#1f9e89"
            ],
            [
             0.6666666666666666,
             "#35b779"
            ],
            [
             0.7777777777777778,
             "#6ece58"
            ],
            [
             0.8888888888888888,
             "#b5de2b"
            ],
            [
             1,
             "#fde725"
            ]
           ]
          },
          "colorway": [
           "#1F77B4",
           "#FF7F0E",
           "#2CA02C",
           "#D62728",
           "#9467BD",
           "#8C564B",
           "#E377C2",
           "#7F7F7F",
           "#BCBD22",
           "#17BECF"
          ],
          "font": {
           "color": "rgb(36,36,36)"
          },
          "geo": {
           "bgcolor": "white",
           "lakecolor": "white",
           "landcolor": "white",
           "showlakes": true,
           "showland": true,
           "subunitcolor": "white"
          },
          "hoverlabel": {
           "align": "left"
          },
          "hovermode": "closest",
          "mapbox": {
           "style": "light"
          },
          "paper_bgcolor": "white",
          "plot_bgcolor": "white",
          "polar": {
           "angularaxis": {
            "gridcolor": "rgb(232,232,232)",
            "linecolor": "rgb(36,36,36)",
            "showgrid": false,
            "showline": true,
            "ticks": "outside"
           },
           "bgcolor": "white",
           "radialaxis": {
            "gridcolor": "rgb(232,232,232)",
            "linecolor": "rgb(36,36,36)",
            "showgrid": false,
            "showline": true,
            "ticks": "outside"
           }
          },
          "scene": {
           "xaxis": {
            "backgroundcolor": "white",
            "gridcolor": "rgb(232,232,232)",
            "gridwidth": 2,
            "linecolor": "rgb(36,36,36)",
            "showbackground": true,
            "showgrid": false,
            "showline": true,
            "ticks": "outside",
            "zeroline": false,
            "zerolinecolor": "rgb(36,36,36)"
           },
           "yaxis": {
            "backgroundcolor": "white",
            "gridcolor": "rgb(232,232,232)",
            "gridwidth": 2,
            "linecolor": "rgb(36,36,36)",
            "showbackground": true,
            "showgrid": false,
            "showline": true,
            "ticks": "outside",
            "zeroline": false,
            "zerolinecolor": "rgb(36,36,36)"
           },
           "zaxis": {
            "backgroundcolor": "white",
            "gridcolor": "rgb(232,232,232)",
            "gridwidth": 2,
            "linecolor": "rgb(36,36,36)",
            "showbackground": true,
            "showgrid": false,
            "showline": true,
            "ticks": "outside",
            "zeroline": false,
            "zerolinecolor": "rgb(36,36,36)"
           }
          },
          "shapedefaults": {
           "fillcolor": "black",
           "line": {
            "width": 0
           },
           "opacity": 0.3
          },
          "ternary": {
           "aaxis": {
            "gridcolor": "rgb(232,232,232)",
            "linecolor": "rgb(36,36,36)",
            "showgrid": false,
            "showline": true,
            "ticks": "outside"
           },
           "baxis": {
            "gridcolor": "rgb(232,232,232)",
            "linecolor": "rgb(36,36,36)",
            "showgrid": false,
            "showline": true,
            "ticks": "outside"
           },
           "bgcolor": "white",
           "caxis": {
            "gridcolor": "rgb(232,232,232)",
            "linecolor": "rgb(36,36,36)",
            "showgrid": false,
            "showline": true,
            "ticks": "outside"
           }
          },
          "title": {
           "x": 0.05
          },
          "xaxis": {
           "automargin": true,
           "gridcolor": "rgb(232,232,232)",
           "linecolor": "rgb(36,36,36)",
           "showgrid": false,
           "showline": true,
           "ticks": "outside",
           "title": {
            "standoff": 15
           },
           "zeroline": false,
           "zerolinecolor": "rgb(36,36,36)"
          },
          "yaxis": {
           "automargin": true,
           "gridcolor": "rgb(232,232,232)",
           "linecolor": "rgb(36,36,36)",
           "showgrid": false,
           "showline": true,
           "ticks": "outside",
           "title": {
            "standoff": 15
           },
           "zeroline": false,
           "zerolinecolor": "rgb(36,36,36)"
          }
         }
        },
        "width": 550,
        "xaxis": {
         "type": "log"
        }
       }
      },
      "text/html": [
       "<div>                            <div id=\"f682f7c0-d5f5-4b00-9ce2-068d1c633b8f\" class=\"plotly-graph-div\" style=\"height:370px; width:550px;\"></div>            <script type=\"text/javascript\">                require([\"plotly\"], function(Plotly) {                    window.PLOTLYENV=window.PLOTLYENV || {};                                    if (document.getElementById(\"f682f7c0-d5f5-4b00-9ce2-068d1c633b8f\")) {                    Plotly.newPlot(                        \"f682f7c0-d5f5-4b00-9ce2-068d1c633b8f\",                        [{\"line\":{\"color\":\"#F4A016\",\"width\":5},\"marker\":{\"size\":10},\"name\":\"Sensitivity\",\"x\":[1,5,10,25,125,250,750,1000,1500,2500,5000,10000],\"y\":[0.0,0.0,0.0,19.51219512195122,73.17073170731707,75.60975609756098,78.04878048780488,78.04878048780488,80.48780487804879,80.48780487804879,80.48780487804879,80.48780487804879],\"type\":\"scatter\"},{\"line\":{\"color\":\"#157B3A\",\"width\":5},\"marker\":{\"size\":10},\"name\":\"Specificity\",\"x\":[1,5,10,25,125,250,750,1000,1500,2500,5000,10000],\"y\":[100.0,100.0,100.0,98.05825242718447,84.46601941747572,84.46601941747572,87.37864077669903,88.3495145631068,91.2621359223301,91.2621359223301,91.2621359223301,90.29126213592234],\"type\":\"scatter\"},{\"line\":{\"color\":\"#A63354\",\"width\":5},\"marker\":{\"size\":10},\"name\":\"Accuracy\",\"x\":[1,5,10,25,125,250,750,1000,1500,2500,5000,10000],\"y\":[71.52777777777779,71.52777777777779,71.52777777777779,75.69444444444444,81.25,81.94444444444444,84.72222222222221,85.41666666666666,88.19444444444444,88.19444444444444,88.19444444444444,87.5],\"type\":\"scatter\"},{\"line\":{\"color\":\"black\",\"dash\":\"dash\",\"width\":3},\"mode\":\"lines\",\"showlegend\":false,\"x\":[1500,1500],\"y\":[0,100],\"type\":\"scatter\"}],                        {\"template\":{\"data\":{\"barpolar\":[{\"marker\":{\"line\":{\"color\":\"white\",\"width\":0.5},\"pattern\":{\"fillmode\":\"overlay\",\"size\":10,\"solidity\":0.2}},\"type\":\"barpolar\"}],\"bar\":[{\"error_x\":{\"color\":\"rgb(36,36,36)\"},\"error_y\":{\"color\":\"rgb(36,36,36)\"},\"marker\":{\"line\":{\"color\":\"white\",\"width\":0.5},\"pattern\":{\"fillmode\":\"overlay\",\"size\":10,\"solidity\":0.2}},\"type\":\"bar\"}],\"carpet\":[{\"aaxis\":{\"endlinecolor\":\"rgb(36,36,36)\",\"gridcolor\":\"white\",\"linecolor\":\"white\",\"minorgridcolor\":\"white\",\"startlinecolor\":\"rgb(36,36,36)\"},\"baxis\":{\"endlinecolor\":\"rgb(36,36,36)\",\"gridcolor\":\"white\",\"linecolor\":\"white\",\"minorgridcolor\":\"white\",\"startlinecolor\":\"rgb(36,36,36)\"},\"type\":\"carpet\"}],\"choropleth\":[{\"colorbar\":{\"outlinewidth\":1,\"tickcolor\":\"rgb(36,36,36)\",\"ticks\":\"outside\"},\"type\":\"choropleth\"}],\"contourcarpet\":[{\"colorbar\":{\"outlinewidth\":1,\"tickcolor\":\"rgb(36,36,36)\",\"ticks\":\"outside\"},\"type\":\"contourcarpet\"}],\"contour\":[{\"colorbar\":{\"outlinewidth\":1,\"tickcolor\":\"rgb(36,36,36)\",\"ticks\":\"outside\"},\"colorscale\":[[0.0,\"#440154\"],[0.1111111111111111,\"#482878\"],[0.2222222222222222,\"#3e4989\"],[0.3333333333333333,\"#31688e\"],[0.4444444444444444,\"#26828e\"],[0.5555555555555556,\"#1f9e89\"],[0.6666666666666666,\"#35b779\"],[0.7777777777777778,\"#6ece58\"],[0.8888888888888888,\"#b5de2b\"],[1.0,\"#fde725\"]],\"type\":\"contour\"}],\"heatmapgl\":[{\"colorbar\":{\"outlinewidth\":1,\"tickcolor\":\"rgb(36,36,36)\",\"ticks\":\"outside\"},\"colorscale\":[[0.0,\"#440154\"],[0.1111111111111111,\"#482878\"],[0.2222222222222222,\"#3e4989\"],[0.3333333333333333,\"#31688e\"],[0.4444444444444444,\"#26828e\"],[0.5555555555555556,\"#1f9e89\"],[0.6666666666666666,\"#35b779\"],[0.7777777777777778,\"#6ece58\"],[0.8888888888888888,\"#b5de2b\"],[1.0,\"#fde725\"]],\"type\":\"heatmapgl\"}],\"heatmap\":[{\"colorbar\":{\"outlinewidth\":1,\"tickcolor\":\"rgb(36,36,36)\",\"ticks\":\"outside\"},\"colorscale\":[[0.0,\"#440154\"],[0.1111111111111111,\"#482878\"],[0.2222222222222222,\"#3e4989\"],[0.3333333333333333,\"#31688e\"],[0.4444444444444444,\"#26828e\"],[0.5555555555555556,\"#1f9e89\"],[0.6666666666666666,\"#35b779\"],[0.7777777777777778,\"#6ece58\"],[0.8888888888888888,\"#b5de2b\"],[1.0,\"#fde725\"]],\"type\":\"heatmap\"}],\"histogram2dcontour\":[{\"colorbar\":{\"outlinewidth\":1,\"tickcolor\":\"rgb(36,36,36)\",\"ticks\":\"outside\"},\"colorscale\":[[0.0,\"#440154\"],[0.1111111111111111,\"#482878\"],[0.2222222222222222,\"#3e4989\"],[0.3333333333333333,\"#31688e\"],[0.4444444444444444,\"#26828e\"],[0.5555555555555556,\"#1f9e89\"],[0.6666666666666666,\"#35b779\"],[0.7777777777777778,\"#6ece58\"],[0.8888888888888888,\"#b5de2b\"],[1.0,\"#fde725\"]],\"type\":\"histogram2dcontour\"}],\"histogram2d\":[{\"colorbar\":{\"outlinewidth\":1,\"tickcolor\":\"rgb(36,36,36)\",\"ticks\":\"outside\"},\"colorscale\":[[0.0,\"#440154\"],[0.1111111111111111,\"#482878\"],[0.2222222222222222,\"#3e4989\"],[0.3333333333333333,\"#31688e\"],[0.4444444444444444,\"#26828e\"],[0.5555555555555556,\"#1f9e89\"],[0.6666666666666666,\"#35b779\"],[0.7777777777777778,\"#6ece58\"],[0.8888888888888888,\"#b5de2b\"],[1.0,\"#fde725\"]],\"type\":\"histogram2d\"}],\"histogram\":[{\"marker\":{\"line\":{\"color\":\"white\",\"width\":0.6}},\"type\":\"histogram\"}],\"mesh3d\":[{\"colorbar\":{\"outlinewidth\":1,\"tickcolor\":\"rgb(36,36,36)\",\"ticks\":\"outside\"},\"type\":\"mesh3d\"}],\"parcoords\":[{\"line\":{\"colorbar\":{\"outlinewidth\":1,\"tickcolor\":\"rgb(36,36,36)\",\"ticks\":\"outside\"}},\"type\":\"parcoords\"}],\"pie\":[{\"automargin\":true,\"type\":\"pie\"}],\"scatter3d\":[{\"line\":{\"colorbar\":{\"outlinewidth\":1,\"tickcolor\":\"rgb(36,36,36)\",\"ticks\":\"outside\"}},\"marker\":{\"colorbar\":{\"outlinewidth\":1,\"tickcolor\":\"rgb(36,36,36)\",\"ticks\":\"outside\"}},\"type\":\"scatter3d\"}],\"scattercarpet\":[{\"marker\":{\"colorbar\":{\"outlinewidth\":1,\"tickcolor\":\"rgb(36,36,36)\",\"ticks\":\"outside\"}},\"type\":\"scattercarpet\"}],\"scattergeo\":[{\"marker\":{\"colorbar\":{\"outlinewidth\":1,\"tickcolor\":\"rgb(36,36,36)\",\"ticks\":\"outside\"}},\"type\":\"scattergeo\"}],\"scattergl\":[{\"marker\":{\"colorbar\":{\"outlinewidth\":1,\"tickcolor\":\"rgb(36,36,36)\",\"ticks\":\"outside\"}},\"type\":\"scattergl\"}],\"scattermapbox\":[{\"marker\":{\"colorbar\":{\"outlinewidth\":1,\"tickcolor\":\"rgb(36,36,36)\",\"ticks\":\"outside\"}},\"type\":\"scattermapbox\"}],\"scatterpolargl\":[{\"marker\":{\"colorbar\":{\"outlinewidth\":1,\"tickcolor\":\"rgb(36,36,36)\",\"ticks\":\"outside\"}},\"type\":\"scatterpolargl\"}],\"scatterpolar\":[{\"marker\":{\"colorbar\":{\"outlinewidth\":1,\"tickcolor\":\"rgb(36,36,36)\",\"ticks\":\"outside\"}},\"type\":\"scatterpolar\"}],\"scatter\":[{\"fillpattern\":{\"fillmode\":\"overlay\",\"size\":10,\"solidity\":0.2},\"type\":\"scatter\"}],\"scatterternary\":[{\"marker\":{\"colorbar\":{\"outlinewidth\":1,\"tickcolor\":\"rgb(36,36,36)\",\"ticks\":\"outside\"}},\"type\":\"scatterternary\"}],\"surface\":[{\"colorbar\":{\"outlinewidth\":1,\"tickcolor\":\"rgb(36,36,36)\",\"ticks\":\"outside\"},\"colorscale\":[[0.0,\"#440154\"],[0.1111111111111111,\"#482878\"],[0.2222222222222222,\"#3e4989\"],[0.3333333333333333,\"#31688e\"],[0.4444444444444444,\"#26828e\"],[0.5555555555555556,\"#1f9e89\"],[0.6666666666666666,\"#35b779\"],[0.7777777777777778,\"#6ece58\"],[0.8888888888888888,\"#b5de2b\"],[1.0,\"#fde725\"]],\"type\":\"surface\"}],\"table\":[{\"cells\":{\"fill\":{\"color\":\"rgb(237,237,237)\"},\"line\":{\"color\":\"white\"}},\"header\":{\"fill\":{\"color\":\"rgb(217,217,217)\"},\"line\":{\"color\":\"white\"}},\"type\":\"table\"}]},\"layout\":{\"annotationdefaults\":{\"arrowhead\":0,\"arrowwidth\":1},\"autotypenumbers\":\"strict\",\"coloraxis\":{\"colorbar\":{\"outlinewidth\":1,\"tickcolor\":\"rgb(36,36,36)\",\"ticks\":\"outside\"}},\"colorscale\":{\"diverging\":[[0.0,\"rgb(103,0,31)\"],[0.1,\"rgb(178,24,43)\"],[0.2,\"rgb(214,96,77)\"],[0.3,\"rgb(244,165,130)\"],[0.4,\"rgb(253,219,199)\"],[0.5,\"rgb(247,247,247)\"],[0.6,\"rgb(209,229,240)\"],[0.7,\"rgb(146,197,222)\"],[0.8,\"rgb(67,147,195)\"],[0.9,\"rgb(33,102,172)\"],[1.0,\"rgb(5,48,97)\"]],\"sequential\":[[0.0,\"#440154\"],[0.1111111111111111,\"#482878\"],[0.2222222222222222,\"#3e4989\"],[0.3333333333333333,\"#31688e\"],[0.4444444444444444,\"#26828e\"],[0.5555555555555556,\"#1f9e89\"],[0.6666666666666666,\"#35b779\"],[0.7777777777777778,\"#6ece58\"],[0.8888888888888888,\"#b5de2b\"],[1.0,\"#fde725\"]],\"sequentialminus\":[[0.0,\"#440154\"],[0.1111111111111111,\"#482878\"],[0.2222222222222222,\"#3e4989\"],[0.3333333333333333,\"#31688e\"],[0.4444444444444444,\"#26828e\"],[0.5555555555555556,\"#1f9e89\"],[0.6666666666666666,\"#35b779\"],[0.7777777777777778,\"#6ece58\"],[0.8888888888888888,\"#b5de2b\"],[1.0,\"#fde725\"]]},\"colorway\":[\"#1F77B4\",\"#FF7F0E\",\"#2CA02C\",\"#D62728\",\"#9467BD\",\"#8C564B\",\"#E377C2\",\"#7F7F7F\",\"#BCBD22\",\"#17BECF\"],\"font\":{\"color\":\"rgb(36,36,36)\"},\"geo\":{\"bgcolor\":\"white\",\"lakecolor\":\"white\",\"landcolor\":\"white\",\"showlakes\":true,\"showland\":true,\"subunitcolor\":\"white\"},\"hoverlabel\":{\"align\":\"left\"},\"hovermode\":\"closest\",\"mapbox\":{\"style\":\"light\"},\"paper_bgcolor\":\"white\",\"plot_bgcolor\":\"white\",\"polar\":{\"angularaxis\":{\"gridcolor\":\"rgb(232,232,232)\",\"linecolor\":\"rgb(36,36,36)\",\"showgrid\":false,\"showline\":true,\"ticks\":\"outside\"},\"bgcolor\":\"white\",\"radialaxis\":{\"gridcolor\":\"rgb(232,232,232)\",\"linecolor\":\"rgb(36,36,36)\",\"showgrid\":false,\"showline\":true,\"ticks\":\"outside\"}},\"scene\":{\"xaxis\":{\"backgroundcolor\":\"white\",\"gridcolor\":\"rgb(232,232,232)\",\"gridwidth\":2,\"linecolor\":\"rgb(36,36,36)\",\"showbackground\":true,\"showgrid\":false,\"showline\":true,\"ticks\":\"outside\",\"zeroline\":false,\"zerolinecolor\":\"rgb(36,36,36)\"},\"yaxis\":{\"backgroundcolor\":\"white\",\"gridcolor\":\"rgb(232,232,232)\",\"gridwidth\":2,\"linecolor\":\"rgb(36,36,36)\",\"showbackground\":true,\"showgrid\":false,\"showline\":true,\"ticks\":\"outside\",\"zeroline\":false,\"zerolinecolor\":\"rgb(36,36,36)\"},\"zaxis\":{\"backgroundcolor\":\"white\",\"gridcolor\":\"rgb(232,232,232)\",\"gridwidth\":2,\"linecolor\":\"rgb(36,36,36)\",\"showbackground\":true,\"showgrid\":false,\"showline\":true,\"ticks\":\"outside\",\"zeroline\":false,\"zerolinecolor\":\"rgb(36,36,36)\"}},\"shapedefaults\":{\"fillcolor\":\"black\",\"line\":{\"width\":0},\"opacity\":0.3},\"ternary\":{\"aaxis\":{\"gridcolor\":\"rgb(232,232,232)\",\"linecolor\":\"rgb(36,36,36)\",\"showgrid\":false,\"showline\":true,\"ticks\":\"outside\"},\"baxis\":{\"gridcolor\":\"rgb(232,232,232)\",\"linecolor\":\"rgb(36,36,36)\",\"showgrid\":false,\"showline\":true,\"ticks\":\"outside\"},\"bgcolor\":\"white\",\"caxis\":{\"gridcolor\":\"rgb(232,232,232)\",\"linecolor\":\"rgb(36,36,36)\",\"showgrid\":false,\"showline\":true,\"ticks\":\"outside\"}},\"title\":{\"x\":0.05},\"xaxis\":{\"automargin\":true,\"gridcolor\":\"rgb(232,232,232)\",\"linecolor\":\"rgb(36,36,36)\",\"showgrid\":false,\"showline\":true,\"ticks\":\"outside\",\"title\":{\"standoff\":15},\"zeroline\":false,\"zerolinecolor\":\"rgb(36,36,36)\"},\"yaxis\":{\"automargin\":true,\"gridcolor\":\"rgb(232,232,232)\",\"linecolor\":\"rgb(36,36,36)\",\"showgrid\":false,\"showline\":true,\"ticks\":\"outside\",\"title\":{\"standoff\":15},\"zeroline\":false,\"zerolinecolor\":\"rgb(36,36,36)\"}}},\"xaxis\":{\"type\":\"log\"},\"font\":{\"size\":14},\"legend\":{\"yanchor\":\"bottom\",\"y\":0.05,\"xanchor\":\"right\",\"x\":1.1,\"bordercolor\":\"Black\",\"borderwidth\":1},\"autosize\":false,\"width\":550,\"height\":370},                        {\"responsive\": true}                    ).then(function(){\n",
       "                            \n",
       "var gd = document.getElementById('f682f7c0-d5f5-4b00-9ce2-068d1c633b8f');\n",
       "var x = new MutationObserver(function (mutations, observer) {{\n",
       "        var display = window.getComputedStyle(gd).display;\n",
       "        if (!display || display === 'none') {{\n",
       "            console.log([gd, 'removed!']);\n",
       "            Plotly.purge(gd);\n",
       "            observer.disconnect();\n",
       "        }}\n",
       "}});\n",
       "\n",
       "// Listen for the removal of the full notebook cells\n",
       "var notebookContainer = gd.closest('#notebook-container');\n",
       "if (notebookContainer) {{\n",
       "    x.observe(notebookContainer, {childList: true});\n",
       "}}\n",
       "\n",
       "// Listen for the clearing of the current output cell\n",
       "var outputEl = gd.closest('.output');\n",
       "if (outputEl) {{\n",
       "    x.observe(outputEl, {childList: true});\n",
       "}}\n",
       "\n",
       "                        })                };                });            </script>        </div>"
      ]
     },
     "metadata": {},
     "output_type": "display_data"
    }
   ],
   "source": [
    "# C optimization\n",
    "df_results_c.sort_values(by='C',ascending=True, inplace=True)\n",
    "fig = go.Figure()\n",
    "\n",
    "# Plot trend\n",
    "fig.add_trace(go.Scatter(x=df_results_c['C'], y=df_results_c['Sensitivity']*100,name='Sensitivity',\n",
    "                        line={'color':'#F4A016','width':5},marker={'size':10}))\n",
    "fig.add_trace(go.Scatter(x=df_results_c['C'], y=df_results_c['Specificity']*100,name='Specificity',\n",
    "                        line={'color':'#157B3A','width':5},marker={'size':10}))\n",
    "fig.add_trace(go.Scatter(x=df_results_c['C'], y=df_results_c['Accuracy']*100,name='Accuracy',\n",
    "                        line={'color':'#A63354','width':5},marker={'size':10}))\n",
    "fig.add_trace(go.Scatter(x=[1500,1500], y=[0,100], mode='lines',\n",
    "                         line={'dash':'dash','color':'black','width':3},showlegend=False))\n",
    "\n",
    "# Some aesthetical adjustments to layout\n",
    "fig.update_xaxes(type=\"log\")\n",
    "fig.update_layout(autosize=False,width=550,height=370,font=dict(size=14), template='simple_white',\n",
    "                 legend=dict(yanchor=\"bottom\", y=0.05,xanchor=\"right\",x=1.1, bordercolor=\"Black\",borderwidth=1))\n",
    "fig.show()\n",
    "fig.write_image(os.path.join(Path,'C optimization.png'),scale=3)\n",
    "plt.close()"
   ]
  },
  {
   "cell_type": "code",
   "execution_count": 63,
   "id": "ce85e5a2",
   "metadata": {},
   "outputs": [
    {
     "data": {
      "application/vnd.plotly.v1+json": {
       "config": {
        "plotlyServerURL": "https://plot.ly"
       },
       "data": [
        {
         "line": {
          "color": "#F4A016",
          "width": 5
         },
         "marker": {
          "size": 10
         },
         "name": "Sensitivity",
         "type": "scatter",
         "x": [
          5,
          10,
          15,
          20,
          25,
          30,
          35,
          40,
          45,
          50,
          55,
          60,
          65,
          70,
          75,
          80,
          85,
          90,
          95,
          100,
          105,
          110,
          115,
          120,
          125,
          130,
          135,
          140,
          145,
          150,
          155,
          160,
          165,
          170,
          175,
          180,
          185,
          190,
          195,
          200,
          205,
          210,
          215,
          220,
          225,
          230,
          235,
          240,
          245,
          250,
          255,
          260,
          265,
          270,
          275,
          280,
          285,
          290,
          295,
          300,
          305,
          310,
          315,
          320,
          325,
          330,
          335,
          340,
          345,
          350,
          355,
          360,
          365,
          370,
          375,
          380,
          385,
          390,
          395,
          400,
          405,
          410,
          415,
          420,
          425,
          430,
          435,
          440,
          445,
          450,
          455,
          460,
          465,
          470,
          475,
          480,
          485,
          490,
          495
         ],
         "xaxis": "x",
         "y": [
          75.60975609756098,
          68.29268292682927,
          70.73170731707317,
          73.17073170731707,
          73.17073170731707,
          73.17073170731707,
          75.60975609756098,
          78.04878048780488,
          78.04878048780488,
          78.04878048780488,
          78.04878048780488,
          80.48780487804879,
          80.48780487804879,
          80.48780487804879,
          80.48780487804879,
          80.48780487804879,
          80.48780487804879,
          80.48780487804879,
          80.48780487804879,
          80.48780487804879,
          80.48780487804879,
          80.48780487804879,
          80.48780487804879,
          80.48780487804879,
          80.48780487804879,
          80.48780487804879,
          80.48780487804879,
          80.48780487804879,
          80.48780487804879,
          80.48780487804879,
          80.48780487804879,
          80.48780487804879,
          80.48780487804879,
          80.48780487804879,
          80.48780487804879,
          80.48780487804879,
          80.48780487804879,
          80.48780487804879,
          80.48780487804879,
          80.48780487804879,
          80.48780487804879,
          80.48780487804879,
          80.48780487804879,
          80.48780487804879,
          80.48780487804879,
          80.48780487804879,
          80.48780487804879,
          80.48780487804879,
          80.48780487804879,
          80.48780487804879,
          80.48780487804879,
          80.48780487804879,
          80.48780487804879,
          80.48780487804879,
          80.48780487804879,
          80.48780487804879,
          80.48780487804879,
          80.48780487804879,
          80.48780487804879,
          80.48780487804879,
          80.48780487804879,
          80.48780487804879,
          80.48780487804879,
          80.48780487804879,
          80.48780487804879,
          80.48780487804879,
          80.48780487804879,
          80.48780487804879,
          80.48780487804879,
          80.48780487804879,
          80.48780487804879,
          80.48780487804879,
          80.48780487804879,
          80.48780487804879,
          80.48780487804879,
          80.48780487804879,
          80.48780487804879,
          80.48780487804879,
          80.48780487804879,
          80.48780487804879,
          80.48780487804879,
          80.48780487804879,
          80.48780487804879,
          80.48780487804879,
          80.48780487804879,
          80.48780487804879,
          80.48780487804879,
          80.48780487804879,
          80.48780487804879,
          80.48780487804879,
          80.48780487804879,
          80.48780487804879,
          80.48780487804879,
          80.48780487804879,
          80.48780487804879,
          80.48780487804879,
          80.48780487804879,
          80.48780487804879,
          80.48780487804879
         ],
         "yaxis": "y"
        },
        {
         "line": {
          "color": "#157B3A",
          "width": 5
         },
         "marker": {
          "size": 10
         },
         "name": "Specificity",
         "type": "scatter",
         "x": [
          5,
          10,
          15,
          20,
          25,
          30,
          35,
          40,
          45,
          50,
          55,
          60,
          65,
          70,
          75,
          80,
          85,
          90,
          95,
          100,
          105,
          110,
          115,
          120,
          125,
          130,
          135,
          140,
          145,
          150,
          155,
          160,
          165,
          170,
          175,
          180,
          185,
          190,
          195,
          200,
          205,
          210,
          215,
          220,
          225,
          230,
          235,
          240,
          245,
          250,
          255,
          260,
          265,
          270,
          275,
          280,
          285,
          290,
          295,
          300,
          305,
          310,
          315,
          320,
          325,
          330,
          335,
          340,
          345,
          350,
          355,
          360,
          365,
          370,
          375,
          380,
          385,
          390,
          395,
          400,
          405,
          410,
          415,
          420,
          425,
          430,
          435,
          440,
          445,
          450,
          455,
          460,
          465,
          470,
          475,
          480,
          485,
          490,
          495
         ],
         "xaxis": "x",
         "y": [
          85.43689320388349,
          87.37864077669903,
          89.32038834951457,
          88.3495145631068,
          89.32038834951457,
          90.29126213592234,
          90.29126213592234,
          90.29126213592234,
          90.29126213592234,
          90.29126213592234,
          90.29126213592234,
          90.29126213592234,
          90.29126213592234,
          90.29126213592234,
          90.29126213592234,
          90.29126213592234,
          90.29126213592234,
          89.32038834951457,
          90.29126213592234,
          90.29126213592234,
          90.29126213592234,
          90.29126213592234,
          90.29126213592234,
          90.29126213592234,
          90.29126213592234,
          90.29126213592234,
          90.29126213592234,
          90.29126213592234,
          90.29126213592234,
          90.29126213592234,
          90.29126213592234,
          90.29126213592234,
          90.29126213592234,
          90.29126213592234,
          90.29126213592234,
          90.29126213592234,
          90.29126213592234,
          90.29126213592234,
          90.29126213592234,
          90.29126213592234,
          90.29126213592234,
          90.29126213592234,
          90.29126213592234,
          90.29126213592234,
          90.29126213592234,
          90.29126213592234,
          90.29126213592234,
          90.29126213592234,
          90.29126213592234,
          90.29126213592234,
          90.29126213592234,
          90.29126213592234,
          90.29126213592234,
          90.29126213592234,
          90.29126213592234,
          90.29126213592234,
          91.2621359223301,
          91.2621359223301,
          91.2621359223301,
          91.2621359223301,
          91.2621359223301,
          91.2621359223301,
          91.2621359223301,
          91.2621359223301,
          91.2621359223301,
          91.2621359223301,
          91.2621359223301,
          91.2621359223301,
          91.2621359223301,
          91.2621359223301,
          91.2621359223301,
          91.2621359223301,
          91.2621359223301,
          91.2621359223301,
          91.2621359223301,
          91.2621359223301,
          91.2621359223301,
          91.2621359223301,
          91.2621359223301,
          91.2621359223301,
          91.2621359223301,
          91.2621359223301,
          91.2621359223301,
          91.2621359223301,
          91.2621359223301,
          91.2621359223301,
          91.2621359223301,
          91.2621359223301,
          91.2621359223301,
          91.2621359223301,
          91.2621359223301,
          91.2621359223301,
          91.2621359223301,
          91.2621359223301,
          91.2621359223301,
          91.2621359223301,
          91.2621359223301,
          91.2621359223301,
          91.2621359223301
         ],
         "yaxis": "y"
        },
        {
         "line": {
          "color": "#A63354",
          "width": 5
         },
         "marker": {
          "size": 10
         },
         "name": "Accuracy",
         "type": "scatter",
         "x": [
          5,
          10,
          15,
          20,
          25,
          30,
          35,
          40,
          45,
          50,
          55,
          60,
          65,
          70,
          75,
          80,
          85,
          90,
          95,
          100,
          105,
          110,
          115,
          120,
          125,
          130,
          135,
          140,
          145,
          150,
          155,
          160,
          165,
          170,
          175,
          180,
          185,
          190,
          195,
          200,
          205,
          210,
          215,
          220,
          225,
          230,
          235,
          240,
          245,
          250,
          255,
          260,
          265,
          270,
          275,
          280,
          285,
          290,
          295,
          300,
          305,
          310,
          315,
          320,
          325,
          330,
          335,
          340,
          345,
          350,
          355,
          360,
          365,
          370,
          375,
          380,
          385,
          390,
          395,
          400,
          405,
          410,
          415,
          420,
          425,
          430,
          435,
          440,
          445,
          450,
          455,
          460,
          465,
          470,
          475,
          480,
          485,
          490,
          495
         ],
         "xaxis": "x",
         "y": [
          82.63888888888889,
          81.94444444444444,
          84.02777777777779,
          84.02777777777779,
          84.72222222222221,
          85.41666666666666,
          86.11111111111111,
          86.80555555555556,
          86.80555555555556,
          86.80555555555556,
          86.80555555555556,
          87.5,
          87.5,
          87.5,
          87.5,
          87.5,
          87.5,
          86.80555555555556,
          87.5,
          87.5,
          87.5,
          87.5,
          87.5,
          87.5,
          87.5,
          87.5,
          87.5,
          87.5,
          87.5,
          87.5,
          87.5,
          87.5,
          87.5,
          87.5,
          87.5,
          87.5,
          87.5,
          87.5,
          87.5,
          87.5,
          87.5,
          87.5,
          87.5,
          87.5,
          87.5,
          87.5,
          87.5,
          87.5,
          87.5,
          87.5,
          87.5,
          87.5,
          87.5,
          87.5,
          87.5,
          87.5,
          88.19444444444444,
          88.19444444444444,
          88.19444444444444,
          88.19444444444444,
          88.19444444444444,
          88.19444444444444,
          88.19444444444444,
          88.19444444444444,
          88.19444444444444,
          88.19444444444444,
          88.19444444444444,
          88.19444444444444,
          88.19444444444444,
          88.19444444444444,
          88.19444444444444,
          88.19444444444444,
          88.19444444444444,
          88.19444444444444,
          88.19444444444444,
          88.19444444444444,
          88.19444444444444,
          88.19444444444444,
          88.19444444444444,
          88.19444444444444,
          88.19444444444444,
          88.19444444444444,
          88.19444444444444,
          88.19444444444444,
          88.19444444444444,
          88.19444444444444,
          88.19444444444444,
          88.19444444444444,
          88.19444444444444,
          88.19444444444444,
          88.19444444444444,
          88.19444444444444,
          88.19444444444444,
          88.19444444444444,
          88.19444444444444,
          88.19444444444444,
          88.19444444444444,
          88.19444444444444,
          88.19444444444444
         ],
         "yaxis": "y"
        },
        {
         "line": {
          "color": "black",
          "dash": "dash",
          "width": 3
         },
         "mode": "lines",
         "showlegend": false,
         "type": "scatter",
         "x": [
          60,
          60
         ],
         "xaxis": "x",
         "y": [
          0,
          100
         ],
         "yaxis": "y"
        },
        {
         "line": {
          "color": "black",
          "dash": "dash",
          "width": 3
         },
         "mode": "lines",
         "showlegend": false,
         "type": "scatter",
         "x": [
          60,
          60
         ],
         "xaxis": "x2",
         "y": [
          0,
          100
         ],
         "yaxis": "y2"
        }
       ],
       "layout": {
        "autosize": false,
        "font": {
         "size": 14
        },
        "height": 350,
        "legend": {
         "bordercolor": "Black",
         "borderwidth": 1,
         "x": 1,
         "xanchor": "right",
         "y": 0.05,
         "yanchor": "bottom"
        },
        "template": {
         "data": {
          "bar": [
           {
            "error_x": {
             "color": "rgb(36,36,36)"
            },
            "error_y": {
             "color": "rgb(36,36,36)"
            },
            "marker": {
             "line": {
              "color": "white",
              "width": 0.5
             },
             "pattern": {
              "fillmode": "overlay",
              "size": 10,
              "solidity": 0.2
             }
            },
            "type": "bar"
           }
          ],
          "barpolar": [
           {
            "marker": {
             "line": {
              "color": "white",
              "width": 0.5
             },
             "pattern": {
              "fillmode": "overlay",
              "size": 10,
              "solidity": 0.2
             }
            },
            "type": "barpolar"
           }
          ],
          "carpet": [
           {
            "aaxis": {
             "endlinecolor": "rgb(36,36,36)",
             "gridcolor": "white",
             "linecolor": "white",
             "minorgridcolor": "white",
             "startlinecolor": "rgb(36,36,36)"
            },
            "baxis": {
             "endlinecolor": "rgb(36,36,36)",
             "gridcolor": "white",
             "linecolor": "white",
             "minorgridcolor": "white",
             "startlinecolor": "rgb(36,36,36)"
            },
            "type": "carpet"
           }
          ],
          "choropleth": [
           {
            "colorbar": {
             "outlinewidth": 1,
             "tickcolor": "rgb(36,36,36)",
             "ticks": "outside"
            },
            "type": "choropleth"
           }
          ],
          "contour": [
           {
            "colorbar": {
             "outlinewidth": 1,
             "tickcolor": "rgb(36,36,36)",
             "ticks": "outside"
            },
            "colorscale": [
             [
              0,
              "#440154"
             ],
             [
              0.1111111111111111,
              "#482878"
             ],
             [
              0.2222222222222222,
              "#3e4989"
             ],
             [
              0.3333333333333333,
              "#31688e"
             ],
             [
              0.4444444444444444,
              "#26828e"
             ],
             [
              0.5555555555555556,
              "#1f9e89"
             ],
             [
              0.6666666666666666,
              "#35b779"
             ],
             [
              0.7777777777777778,
              "#6ece58"
             ],
             [
              0.8888888888888888,
              "#b5de2b"
             ],
             [
              1,
              "#fde725"
             ]
            ],
            "type": "contour"
           }
          ],
          "contourcarpet": [
           {
            "colorbar": {
             "outlinewidth": 1,
             "tickcolor": "rgb(36,36,36)",
             "ticks": "outside"
            },
            "type": "contourcarpet"
           }
          ],
          "heatmap": [
           {
            "colorbar": {
             "outlinewidth": 1,
             "tickcolor": "rgb(36,36,36)",
             "ticks": "outside"
            },
            "colorscale": [
             [
              0,
              "#440154"
             ],
             [
              0.1111111111111111,
              "#482878"
             ],
             [
              0.2222222222222222,
              "#3e4989"
             ],
             [
              0.3333333333333333,
              "#31688e"
             ],
             [
              0.4444444444444444,
              "#26828e"
             ],
             [
              0.5555555555555556,
              "#1f9e89"
             ],
             [
              0.6666666666666666,
              "#35b779"
             ],
             [
              0.7777777777777778,
              "#6ece58"
             ],
             [
              0.8888888888888888,
              "#b5de2b"
             ],
             [
              1,
              "#fde725"
             ]
            ],
            "type": "heatmap"
           }
          ],
          "heatmapgl": [
           {
            "colorbar": {
             "outlinewidth": 1,
             "tickcolor": "rgb(36,36,36)",
             "ticks": "outside"
            },
            "colorscale": [
             [
              0,
              "#440154"
             ],
             [
              0.1111111111111111,
              "#482878"
             ],
             [
              0.2222222222222222,
              "#3e4989"
             ],
             [
              0.3333333333333333,
              "#31688e"
             ],
             [
              0.4444444444444444,
              "#26828e"
             ],
             [
              0.5555555555555556,
              "#1f9e89"
             ],
             [
              0.6666666666666666,
              "#35b779"
             ],
             [
              0.7777777777777778,
              "#6ece58"
             ],
             [
              0.8888888888888888,
              "#b5de2b"
             ],
             [
              1,
              "#fde725"
             ]
            ],
            "type": "heatmapgl"
           }
          ],
          "histogram": [
           {
            "marker": {
             "line": {
              "color": "white",
              "width": 0.6
             }
            },
            "type": "histogram"
           }
          ],
          "histogram2d": [
           {
            "colorbar": {
             "outlinewidth": 1,
             "tickcolor": "rgb(36,36,36)",
             "ticks": "outside"
            },
            "colorscale": [
             [
              0,
              "#440154"
             ],
             [
              0.1111111111111111,
              "#482878"
             ],
             [
              0.2222222222222222,
              "#3e4989"
             ],
             [
              0.3333333333333333,
              "#31688e"
             ],
             [
              0.4444444444444444,
              "#26828e"
             ],
             [
              0.5555555555555556,
              "#1f9e89"
             ],
             [
              0.6666666666666666,
              "#35b779"
             ],
             [
              0.7777777777777778,
              "#6ece58"
             ],
             [
              0.8888888888888888,
              "#b5de2b"
             ],
             [
              1,
              "#fde725"
             ]
            ],
            "type": "histogram2d"
           }
          ],
          "histogram2dcontour": [
           {
            "colorbar": {
             "outlinewidth": 1,
             "tickcolor": "rgb(36,36,36)",
             "ticks": "outside"
            },
            "colorscale": [
             [
              0,
              "#440154"
             ],
             [
              0.1111111111111111,
              "#482878"
             ],
             [
              0.2222222222222222,
              "#3e4989"
             ],
             [
              0.3333333333333333,
              "#31688e"
             ],
             [
              0.4444444444444444,
              "#26828e"
             ],
             [
              0.5555555555555556,
              "#1f9e89"
             ],
             [
              0.6666666666666666,
              "#35b779"
             ],
             [
              0.7777777777777778,
              "#6ece58"
             ],
             [
              0.8888888888888888,
              "#b5de2b"
             ],
             [
              1,
              "#fde725"
             ]
            ],
            "type": "histogram2dcontour"
           }
          ],
          "mesh3d": [
           {
            "colorbar": {
             "outlinewidth": 1,
             "tickcolor": "rgb(36,36,36)",
             "ticks": "outside"
            },
            "type": "mesh3d"
           }
          ],
          "parcoords": [
           {
            "line": {
             "colorbar": {
              "outlinewidth": 1,
              "tickcolor": "rgb(36,36,36)",
              "ticks": "outside"
             }
            },
            "type": "parcoords"
           }
          ],
          "pie": [
           {
            "automargin": true,
            "type": "pie"
           }
          ],
          "scatter": [
           {
            "fillpattern": {
             "fillmode": "overlay",
             "size": 10,
             "solidity": 0.2
            },
            "type": "scatter"
           }
          ],
          "scatter3d": [
           {
            "line": {
             "colorbar": {
              "outlinewidth": 1,
              "tickcolor": "rgb(36,36,36)",
              "ticks": "outside"
             }
            },
            "marker": {
             "colorbar": {
              "outlinewidth": 1,
              "tickcolor": "rgb(36,36,36)",
              "ticks": "outside"
             }
            },
            "type": "scatter3d"
           }
          ],
          "scattercarpet": [
           {
            "marker": {
             "colorbar": {
              "outlinewidth": 1,
              "tickcolor": "rgb(36,36,36)",
              "ticks": "outside"
             }
            },
            "type": "scattercarpet"
           }
          ],
          "scattergeo": [
           {
            "marker": {
             "colorbar": {
              "outlinewidth": 1,
              "tickcolor": "rgb(36,36,36)",
              "ticks": "outside"
             }
            },
            "type": "scattergeo"
           }
          ],
          "scattergl": [
           {
            "marker": {
             "colorbar": {
              "outlinewidth": 1,
              "tickcolor": "rgb(36,36,36)",
              "ticks": "outside"
             }
            },
            "type": "scattergl"
           }
          ],
          "scattermapbox": [
           {
            "marker": {
             "colorbar": {
              "outlinewidth": 1,
              "tickcolor": "rgb(36,36,36)",
              "ticks": "outside"
             }
            },
            "type": "scattermapbox"
           }
          ],
          "scatterpolar": [
           {
            "marker": {
             "colorbar": {
              "outlinewidth": 1,
              "tickcolor": "rgb(36,36,36)",
              "ticks": "outside"
             }
            },
            "type": "scatterpolar"
           }
          ],
          "scatterpolargl": [
           {
            "marker": {
             "colorbar": {
              "outlinewidth": 1,
              "tickcolor": "rgb(36,36,36)",
              "ticks": "outside"
             }
            },
            "type": "scatterpolargl"
           }
          ],
          "scatterternary": [
           {
            "marker": {
             "colorbar": {
              "outlinewidth": 1,
              "tickcolor": "rgb(36,36,36)",
              "ticks": "outside"
             }
            },
            "type": "scatterternary"
           }
          ],
          "surface": [
           {
            "colorbar": {
             "outlinewidth": 1,
             "tickcolor": "rgb(36,36,36)",
             "ticks": "outside"
            },
            "colorscale": [
             [
              0,
              "#440154"
             ],
             [
              0.1111111111111111,
              "#482878"
             ],
             [
              0.2222222222222222,
              "#3e4989"
             ],
             [
              0.3333333333333333,
              "#31688e"
             ],
             [
              0.4444444444444444,
              "#26828e"
             ],
             [
              0.5555555555555556,
              "#1f9e89"
             ],
             [
              0.6666666666666666,
              "#35b779"
             ],
             [
              0.7777777777777778,
              "#6ece58"
             ],
             [
              0.8888888888888888,
              "#b5de2b"
             ],
             [
              1,
              "#fde725"
             ]
            ],
            "type": "surface"
           }
          ],
          "table": [
           {
            "cells": {
             "fill": {
              "color": "rgb(237,237,237)"
             },
             "line": {
              "color": "white"
             }
            },
            "header": {
             "fill": {
              "color": "rgb(217,217,217)"
             },
             "line": {
              "color": "white"
             }
            },
            "type": "table"
           }
          ]
         },
         "layout": {
          "annotationdefaults": {
           "arrowhead": 0,
           "arrowwidth": 1
          },
          "autotypenumbers": "strict",
          "coloraxis": {
           "colorbar": {
            "outlinewidth": 1,
            "tickcolor": "rgb(36,36,36)",
            "ticks": "outside"
           }
          },
          "colorscale": {
           "diverging": [
            [
             0,
             "rgb(103,0,31)"
            ],
            [
             0.1,
             "rgb(178,24,43)"
            ],
            [
             0.2,
             "rgb(214,96,77)"
            ],
            [
             0.3,
             "rgb(244,165,130)"
            ],
            [
             0.4,
             "rgb(253,219,199)"
            ],
            [
             0.5,
             "rgb(247,247,247)"
            ],
            [
             0.6,
             "rgb(209,229,240)"
            ],
            [
             0.7,
             "rgb(146,197,222)"
            ],
            [
             0.8,
             "rgb(67,147,195)"
            ],
            [
             0.9,
             "rgb(33,102,172)"
            ],
            [
             1,
             "rgb(5,48,97)"
            ]
           ],
           "sequential": [
            [
             0,
             "#440154"
            ],
            [
             0.1111111111111111,
             "#482878"
            ],
            [
             0.2222222222222222,
             "#3e4989"
            ],
            [
             0.3333333333333333,
             "#31688e"
            ],
            [
             0.4444444444444444,
             "#26828e"
            ],
            [
             0.5555555555555556,
             "#1f9e89"
            ],
            [
             0.6666666666666666,
             "#35b779"
            ],
            [
             0.7777777777777778,
             "#6ece58"
            ],
            [
             0.8888888888888888,
             "#b5de2b"
            ],
            [
             1,
             "#fde725"
            ]
           ],
           "sequentialminus": [
            [
             0,
             "#440154"
            ],
            [
             0.1111111111111111,
             "#482878"
            ],
            [
             0.2222222222222222,
             "#3e4989"
            ],
            [
             0.3333333333333333,
             "#31688e"
            ],
            [
             0.4444444444444444,
             "#26828e"
            ],
            [
             0.5555555555555556,
             "#1f9e89"
            ],
            [
             0.6666666666666666,
             "#35b779"
            ],
            [
             0.7777777777777778,
             "#6ece58"
            ],
            [
             0.8888888888888888,
             "#b5de2b"
            ],
            [
             1,
             "#fde725"
            ]
           ]
          },
          "colorway": [
           "#1F77B4",
           "#FF7F0E",
           "#2CA02C",
           "#D62728",
           "#9467BD",
           "#8C564B",
           "#E377C2",
           "#7F7F7F",
           "#BCBD22",
           "#17BECF"
          ],
          "font": {
           "color": "rgb(36,36,36)"
          },
          "geo": {
           "bgcolor": "white",
           "lakecolor": "white",
           "landcolor": "white",
           "showlakes": true,
           "showland": true,
           "subunitcolor": "white"
          },
          "hoverlabel": {
           "align": "left"
          },
          "hovermode": "closest",
          "mapbox": {
           "style": "light"
          },
          "paper_bgcolor": "white",
          "plot_bgcolor": "white",
          "polar": {
           "angularaxis": {
            "gridcolor": "rgb(232,232,232)",
            "linecolor": "rgb(36,36,36)",
            "showgrid": false,
            "showline": true,
            "ticks": "outside"
           },
           "bgcolor": "white",
           "radialaxis": {
            "gridcolor": "rgb(232,232,232)",
            "linecolor": "rgb(36,36,36)",
            "showgrid": false,
            "showline": true,
            "ticks": "outside"
           }
          },
          "scene": {
           "xaxis": {
            "backgroundcolor": "white",
            "gridcolor": "rgb(232,232,232)",
            "gridwidth": 2,
            "linecolor": "rgb(36,36,36)",
            "showbackground": true,
            "showgrid": false,
            "showline": true,
            "ticks": "outside",
            "zeroline": false,
            "zerolinecolor": "rgb(36,36,36)"
           },
           "yaxis": {
            "backgroundcolor": "white",
            "gridcolor": "rgb(232,232,232)",
            "gridwidth": 2,
            "linecolor": "rgb(36,36,36)",
            "showbackground": true,
            "showgrid": false,
            "showline": true,
            "ticks": "outside",
            "zeroline": false,
            "zerolinecolor": "rgb(36,36,36)"
           },
           "zaxis": {
            "backgroundcolor": "white",
            "gridcolor": "rgb(232,232,232)",
            "gridwidth": 2,
            "linecolor": "rgb(36,36,36)",
            "showbackground": true,
            "showgrid": false,
            "showline": true,
            "ticks": "outside",
            "zeroline": false,
            "zerolinecolor": "rgb(36,36,36)"
           }
          },
          "shapedefaults": {
           "fillcolor": "black",
           "line": {
            "width": 0
           },
           "opacity": 0.3
          },
          "ternary": {
           "aaxis": {
            "gridcolor": "rgb(232,232,232)",
            "linecolor": "rgb(36,36,36)",
            "showgrid": false,
            "showline": true,
            "ticks": "outside"
           },
           "baxis": {
            "gridcolor": "rgb(232,232,232)",
            "linecolor": "rgb(36,36,36)",
            "showgrid": false,
            "showline": true,
            "ticks": "outside"
           },
           "bgcolor": "white",
           "caxis": {
            "gridcolor": "rgb(232,232,232)",
            "linecolor": "rgb(36,36,36)",
            "showgrid": false,
            "showline": true,
            "ticks": "outside"
           }
          },
          "title": {
           "x": 0.05
          },
          "xaxis": {
           "automargin": true,
           "gridcolor": "rgb(232,232,232)",
           "linecolor": "rgb(36,36,36)",
           "showgrid": false,
           "showline": true,
           "ticks": "outside",
           "title": {
            "standoff": 15
           },
           "zeroline": false,
           "zerolinecolor": "rgb(36,36,36)"
          },
          "yaxis": {
           "automargin": true,
           "gridcolor": "rgb(232,232,232)",
           "linecolor": "rgb(36,36,36)",
           "showgrid": false,
           "showline": true,
           "ticks": "outside",
           "title": {
            "standoff": 15
           },
           "zeroline": false,
           "zerolinecolor": "rgb(36,36,36)"
          }
         }
        },
        "width": 550,
        "xaxis": {
         "anchor": "y",
         "domain": [
          0,
          1
         ],
         "range": [
          0,
          500
         ],
         "visible": false
        },
        "xaxis2": {
         "anchor": "y2",
         "domain": [
          0,
          1
         ],
         "range": [
          0,
          500
         ]
        },
        "yaxis": {
         "anchor": "x",
         "domain": [
          0.3388888888888889,
          1
         ],
         "range": [
          65,
          100
         ]
        },
        "yaxis2": {
         "anchor": "x2",
         "domain": [
          0,
          0.18888888888888888
         ],
         "range": [
          0,
          10
         ]
        }
       }
      },
      "text/html": [
       "<div>                            <div id=\"fbd1ce93-551a-42e5-956c-d359a248d53c\" class=\"plotly-graph-div\" style=\"height:350px; width:550px;\"></div>            <script type=\"text/javascript\">                require([\"plotly\"], function(Plotly) {                    window.PLOTLYENV=window.PLOTLYENV || {};                                    if (document.getElementById(\"fbd1ce93-551a-42e5-956c-d359a248d53c\")) {                    Plotly.newPlot(                        \"fbd1ce93-551a-42e5-956c-d359a248d53c\",                        [{\"line\":{\"color\":\"#F4A016\",\"width\":5},\"marker\":{\"size\":10},\"name\":\"Sensitivity\",\"x\":[5,10,15,20,25,30,35,40,45,50,55,60,65,70,75,80,85,90,95,100,105,110,115,120,125,130,135,140,145,150,155,160,165,170,175,180,185,190,195,200,205,210,215,220,225,230,235,240,245,250,255,260,265,270,275,280,285,290,295,300,305,310,315,320,325,330,335,340,345,350,355,360,365,370,375,380,385,390,395,400,405,410,415,420,425,430,435,440,445,450,455,460,465,470,475,480,485,490,495],\"y\":[75.60975609756098,68.29268292682927,70.73170731707317,73.17073170731707,73.17073170731707,73.17073170731707,75.60975609756098,78.04878048780488,78.04878048780488,78.04878048780488,78.04878048780488,80.48780487804879,80.48780487804879,80.48780487804879,80.48780487804879,80.48780487804879,80.48780487804879,80.48780487804879,80.48780487804879,80.48780487804879,80.48780487804879,80.48780487804879,80.48780487804879,80.48780487804879,80.48780487804879,80.48780487804879,80.48780487804879,80.48780487804879,80.48780487804879,80.48780487804879,80.48780487804879,80.48780487804879,80.48780487804879,80.48780487804879,80.48780487804879,80.48780487804879,80.48780487804879,80.48780487804879,80.48780487804879,80.48780487804879,80.48780487804879,80.48780487804879,80.48780487804879,80.48780487804879,80.48780487804879,80.48780487804879,80.48780487804879,80.48780487804879,80.48780487804879,80.48780487804879,80.48780487804879,80.48780487804879,80.48780487804879,80.48780487804879,80.48780487804879,80.48780487804879,80.48780487804879,80.48780487804879,80.48780487804879,80.48780487804879,80.48780487804879,80.48780487804879,80.48780487804879,80.48780487804879,80.48780487804879,80.48780487804879,80.48780487804879,80.48780487804879,80.48780487804879,80.48780487804879,80.48780487804879,80.48780487804879,80.48780487804879,80.48780487804879,80.48780487804879,80.48780487804879,80.48780487804879,80.48780487804879,80.48780487804879,80.48780487804879,80.48780487804879,80.48780487804879,80.48780487804879,80.48780487804879,80.48780487804879,80.48780487804879,80.48780487804879,80.48780487804879,80.48780487804879,80.48780487804879,80.48780487804879,80.48780487804879,80.48780487804879,80.48780487804879,80.48780487804879,80.48780487804879,80.48780487804879,80.48780487804879,80.48780487804879],\"type\":\"scatter\",\"xaxis\":\"x\",\"yaxis\":\"y\"},{\"line\":{\"color\":\"#157B3A\",\"width\":5},\"marker\":{\"size\":10},\"name\":\"Specificity\",\"x\":[5,10,15,20,25,30,35,40,45,50,55,60,65,70,75,80,85,90,95,100,105,110,115,120,125,130,135,140,145,150,155,160,165,170,175,180,185,190,195,200,205,210,215,220,225,230,235,240,245,250,255,260,265,270,275,280,285,290,295,300,305,310,315,320,325,330,335,340,345,350,355,360,365,370,375,380,385,390,395,400,405,410,415,420,425,430,435,440,445,450,455,460,465,470,475,480,485,490,495],\"y\":[85.43689320388349,87.37864077669903,89.32038834951457,88.3495145631068,89.32038834951457,90.29126213592234,90.29126213592234,90.29126213592234,90.29126213592234,90.29126213592234,90.29126213592234,90.29126213592234,90.29126213592234,90.29126213592234,90.29126213592234,90.29126213592234,90.29126213592234,89.32038834951457,90.29126213592234,90.29126213592234,90.29126213592234,90.29126213592234,90.29126213592234,90.29126213592234,90.29126213592234,90.29126213592234,90.29126213592234,90.29126213592234,90.29126213592234,90.29126213592234,90.29126213592234,90.29126213592234,90.29126213592234,90.29126213592234,90.29126213592234,90.29126213592234,90.29126213592234,90.29126213592234,90.29126213592234,90.29126213592234,90.29126213592234,90.29126213592234,90.29126213592234,90.29126213592234,90.29126213592234,90.29126213592234,90.29126213592234,90.29126213592234,90.29126213592234,90.29126213592234,90.29126213592234,90.29126213592234,90.29126213592234,90.29126213592234,90.29126213592234,90.29126213592234,91.2621359223301,91.2621359223301,91.2621359223301,91.2621359223301,91.2621359223301,91.2621359223301,91.2621359223301,91.2621359223301,91.2621359223301,91.2621359223301,91.2621359223301,91.2621359223301,91.2621359223301,91.2621359223301,91.2621359223301,91.2621359223301,91.2621359223301,91.2621359223301,91.2621359223301,91.2621359223301,91.2621359223301,91.2621359223301,91.2621359223301,91.2621359223301,91.2621359223301,91.2621359223301,91.2621359223301,91.2621359223301,91.2621359223301,91.2621359223301,91.2621359223301,91.2621359223301,91.2621359223301,91.2621359223301,91.2621359223301,91.2621359223301,91.2621359223301,91.2621359223301,91.2621359223301,91.2621359223301,91.2621359223301,91.2621359223301,91.2621359223301],\"type\":\"scatter\",\"xaxis\":\"x\",\"yaxis\":\"y\"},{\"line\":{\"color\":\"#A63354\",\"width\":5},\"marker\":{\"size\":10},\"name\":\"Accuracy\",\"x\":[5,10,15,20,25,30,35,40,45,50,55,60,65,70,75,80,85,90,95,100,105,110,115,120,125,130,135,140,145,150,155,160,165,170,175,180,185,190,195,200,205,210,215,220,225,230,235,240,245,250,255,260,265,270,275,280,285,290,295,300,305,310,315,320,325,330,335,340,345,350,355,360,365,370,375,380,385,390,395,400,405,410,415,420,425,430,435,440,445,450,455,460,465,470,475,480,485,490,495],\"y\":[82.63888888888889,81.94444444444444,84.02777777777779,84.02777777777779,84.72222222222221,85.41666666666666,86.11111111111111,86.80555555555556,86.80555555555556,86.80555555555556,86.80555555555556,87.5,87.5,87.5,87.5,87.5,87.5,86.80555555555556,87.5,87.5,87.5,87.5,87.5,87.5,87.5,87.5,87.5,87.5,87.5,87.5,87.5,87.5,87.5,87.5,87.5,87.5,87.5,87.5,87.5,87.5,87.5,87.5,87.5,87.5,87.5,87.5,87.5,87.5,87.5,87.5,87.5,87.5,87.5,87.5,87.5,87.5,88.19444444444444,88.19444444444444,88.19444444444444,88.19444444444444,88.19444444444444,88.19444444444444,88.19444444444444,88.19444444444444,88.19444444444444,88.19444444444444,88.19444444444444,88.19444444444444,88.19444444444444,88.19444444444444,88.19444444444444,88.19444444444444,88.19444444444444,88.19444444444444,88.19444444444444,88.19444444444444,88.19444444444444,88.19444444444444,88.19444444444444,88.19444444444444,88.19444444444444,88.19444444444444,88.19444444444444,88.19444444444444,88.19444444444444,88.19444444444444,88.19444444444444,88.19444444444444,88.19444444444444,88.19444444444444,88.19444444444444,88.19444444444444,88.19444444444444,88.19444444444444,88.19444444444444,88.19444444444444,88.19444444444444,88.19444444444444,88.19444444444444],\"type\":\"scatter\",\"xaxis\":\"x\",\"yaxis\":\"y\"},{\"line\":{\"color\":\"black\",\"dash\":\"dash\",\"width\":3},\"mode\":\"lines\",\"showlegend\":false,\"x\":[60,60],\"y\":[0,100],\"type\":\"scatter\",\"xaxis\":\"x\",\"yaxis\":\"y\"},{\"line\":{\"color\":\"black\",\"dash\":\"dash\",\"width\":3},\"mode\":\"lines\",\"showlegend\":false,\"x\":[60,60],\"y\":[0,100],\"type\":\"scatter\",\"xaxis\":\"x2\",\"yaxis\":\"y2\"}],                        {\"template\":{\"data\":{\"barpolar\":[{\"marker\":{\"line\":{\"color\":\"white\",\"width\":0.5},\"pattern\":{\"fillmode\":\"overlay\",\"size\":10,\"solidity\":0.2}},\"type\":\"barpolar\"}],\"bar\":[{\"error_x\":{\"color\":\"rgb(36,36,36)\"},\"error_y\":{\"color\":\"rgb(36,36,36)\"},\"marker\":{\"line\":{\"color\":\"white\",\"width\":0.5},\"pattern\":{\"fillmode\":\"overlay\",\"size\":10,\"solidity\":0.2}},\"type\":\"bar\"}],\"carpet\":[{\"aaxis\":{\"endlinecolor\":\"rgb(36,36,36)\",\"gridcolor\":\"white\",\"linecolor\":\"white\",\"minorgridcolor\":\"white\",\"startlinecolor\":\"rgb(36,36,36)\"},\"baxis\":{\"endlinecolor\":\"rgb(36,36,36)\",\"gridcolor\":\"white\",\"linecolor\":\"white\",\"minorgridcolor\":\"white\",\"startlinecolor\":\"rgb(36,36,36)\"},\"type\":\"carpet\"}],\"choropleth\":[{\"colorbar\":{\"outlinewidth\":1,\"tickcolor\":\"rgb(36,36,36)\",\"ticks\":\"outside\"},\"type\":\"choropleth\"}],\"contourcarpet\":[{\"colorbar\":{\"outlinewidth\":1,\"tickcolor\":\"rgb(36,36,36)\",\"ticks\":\"outside\"},\"type\":\"contourcarpet\"}],\"contour\":[{\"colorbar\":{\"outlinewidth\":1,\"tickcolor\":\"rgb(36,36,36)\",\"ticks\":\"outside\"},\"colorscale\":[[0.0,\"#440154\"],[0.1111111111111111,\"#482878\"],[0.2222222222222222,\"#3e4989\"],[0.3333333333333333,\"#31688e\"],[0.4444444444444444,\"#26828e\"],[0.5555555555555556,\"#1f9e89\"],[0.6666666666666666,\"#35b779\"],[0.7777777777777778,\"#6ece58\"],[0.8888888888888888,\"#b5de2b\"],[1.0,\"#fde725\"]],\"type\":\"contour\"}],\"heatmapgl\":[{\"colorbar\":{\"outlinewidth\":1,\"tickcolor\":\"rgb(36,36,36)\",\"ticks\":\"outside\"},\"colorscale\":[[0.0,\"#440154\"],[0.1111111111111111,\"#482878\"],[0.2222222222222222,\"#3e4989\"],[0.3333333333333333,\"#31688e\"],[0.4444444444444444,\"#26828e\"],[0.5555555555555556,\"#1f9e89\"],[0.6666666666666666,\"#35b779\"],[0.7777777777777778,\"#6ece58\"],[0.8888888888888888,\"#b5de2b\"],[1.0,\"#fde725\"]],\"type\":\"heatmapgl\"}],\"heatmap\":[{\"colorbar\":{\"outlinewidth\":1,\"tickcolor\":\"rgb(36,36,36)\",\"ticks\":\"outside\"},\"colorscale\":[[0.0,\"#440154\"],[0.1111111111111111,\"#482878\"],[0.2222222222222222,\"#3e4989\"],[0.3333333333333333,\"#31688e\"],[0.4444444444444444,\"#26828e\"],[0.5555555555555556,\"#1f9e89\"],[0.6666666666666666,\"#35b779\"],[0.7777777777777778,\"#6ece58\"],[0.8888888888888888,\"#b5de2b\"],[1.0,\"#fde725\"]],\"type\":\"heatmap\"}],\"histogram2dcontour\":[{\"colorbar\":{\"outlinewidth\":1,\"tickcolor\":\"rgb(36,36,36)\",\"ticks\":\"outside\"},\"colorscale\":[[0.0,\"#440154\"],[0.1111111111111111,\"#482878\"],[0.2222222222222222,\"#3e4989\"],[0.3333333333333333,\"#31688e\"],[0.4444444444444444,\"#26828e\"],[0.5555555555555556,\"#1f9e89\"],[0.6666666666666666,\"#35b779\"],[0.7777777777777778,\"#6ece58\"],[0.8888888888888888,\"#b5de2b\"],[1.0,\"#fde725\"]],\"type\":\"histogram2dcontour\"}],\"histogram2d\":[{\"colorbar\":{\"outlinewidth\":1,\"tickcolor\":\"rgb(36,36,36)\",\"ticks\":\"outside\"},\"colorscale\":[[0.0,\"#440154\"],[0.1111111111111111,\"#482878\"],[0.2222222222222222,\"#3e4989\"],[0.3333333333333333,\"#31688e\"],[0.4444444444444444,\"#26828e\"],[0.5555555555555556,\"#1f9e89\"],[0.6666666666666666,\"#35b779\"],[0.7777777777777778,\"#6ece58\"],[0.8888888888888888,\"#b5de2b\"],[1.0,\"#fde725\"]],\"type\":\"histogram2d\"}],\"histogram\":[{\"marker\":{\"line\":{\"color\":\"white\",\"width\":0.6}},\"type\":\"histogram\"}],\"mesh3d\":[{\"colorbar\":{\"outlinewidth\":1,\"tickcolor\":\"rgb(36,36,36)\",\"ticks\":\"outside\"},\"type\":\"mesh3d\"}],\"parcoords\":[{\"line\":{\"colorbar\":{\"outlinewidth\":1,\"tickcolor\":\"rgb(36,36,36)\",\"ticks\":\"outside\"}},\"type\":\"parcoords\"}],\"pie\":[{\"automargin\":true,\"type\":\"pie\"}],\"scatter3d\":[{\"line\":{\"colorbar\":{\"outlinewidth\":1,\"tickcolor\":\"rgb(36,36,36)\",\"ticks\":\"outside\"}},\"marker\":{\"colorbar\":{\"outlinewidth\":1,\"tickcolor\":\"rgb(36,36,36)\",\"ticks\":\"outside\"}},\"type\":\"scatter3d\"}],\"scattercarpet\":[{\"marker\":{\"colorbar\":{\"outlinewidth\":1,\"tickcolor\":\"rgb(36,36,36)\",\"ticks\":\"outside\"}},\"type\":\"scattercarpet\"}],\"scattergeo\":[{\"marker\":{\"colorbar\":{\"outlinewidth\":1,\"tickcolor\":\"rgb(36,36,36)\",\"ticks\":\"outside\"}},\"type\":\"scattergeo\"}],\"scattergl\":[{\"marker\":{\"colorbar\":{\"outlinewidth\":1,\"tickcolor\":\"rgb(36,36,36)\",\"ticks\":\"outside\"}},\"type\":\"scattergl\"}],\"scattermapbox\":[{\"marker\":{\"colorbar\":{\"outlinewidth\":1,\"tickcolor\":\"rgb(36,36,36)\",\"ticks\":\"outside\"}},\"type\":\"scattermapbox\"}],\"scatterpolargl\":[{\"marker\":{\"colorbar\":{\"outlinewidth\":1,\"tickcolor\":\"rgb(36,36,36)\",\"ticks\":\"outside\"}},\"type\":\"scatterpolargl\"}],\"scatterpolar\":[{\"marker\":{\"colorbar\":{\"outlinewidth\":1,\"tickcolor\":\"rgb(36,36,36)\",\"ticks\":\"outside\"}},\"type\":\"scatterpolar\"}],\"scatter\":[{\"fillpattern\":{\"fillmode\":\"overlay\",\"size\":10,\"solidity\":0.2},\"type\":\"scatter\"}],\"scatterternary\":[{\"marker\":{\"colorbar\":{\"outlinewidth\":1,\"tickcolor\":\"rgb(36,36,36)\",\"ticks\":\"outside\"}},\"type\":\"scatterternary\"}],\"surface\":[{\"colorbar\":{\"outlinewidth\":1,\"tickcolor\":\"rgb(36,36,36)\",\"ticks\":\"outside\"},\"colorscale\":[[0.0,\"#440154\"],[0.1111111111111111,\"#482878\"],[0.2222222222222222,\"#3e4989\"],[0.3333333333333333,\"#31688e\"],[0.4444444444444444,\"#26828e\"],[0.5555555555555556,\"#1f9e89\"],[0.6666666666666666,\"#35b779\"],[0.7777777777777778,\"#6ece58\"],[0.8888888888888888,\"#b5de2b\"],[1.0,\"#fde725\"]],\"type\":\"surface\"}],\"table\":[{\"cells\":{\"fill\":{\"color\":\"rgb(237,237,237)\"},\"line\":{\"color\":\"white\"}},\"header\":{\"fill\":{\"color\":\"rgb(217,217,217)\"},\"line\":{\"color\":\"white\"}},\"type\":\"table\"}]},\"layout\":{\"annotationdefaults\":{\"arrowhead\":0,\"arrowwidth\":1},\"autotypenumbers\":\"strict\",\"coloraxis\":{\"colorbar\":{\"outlinewidth\":1,\"tickcolor\":\"rgb(36,36,36)\",\"ticks\":\"outside\"}},\"colorscale\":{\"diverging\":[[0.0,\"rgb(103,0,31)\"],[0.1,\"rgb(178,24,43)\"],[0.2,\"rgb(214,96,77)\"],[0.3,\"rgb(244,165,130)\"],[0.4,\"rgb(253,219,199)\"],[0.5,\"rgb(247,247,247)\"],[0.6,\"rgb(209,229,240)\"],[0.7,\"rgb(146,197,222)\"],[0.8,\"rgb(67,147,195)\"],[0.9,\"rgb(33,102,172)\"],[1.0,\"rgb(5,48,97)\"]],\"sequential\":[[0.0,\"#440154\"],[0.1111111111111111,\"#482878\"],[0.2222222222222222,\"#3e4989\"],[0.3333333333333333,\"#31688e\"],[0.4444444444444444,\"#26828e\"],[0.5555555555555556,\"#1f9e89\"],[0.6666666666666666,\"#35b779\"],[0.7777777777777778,\"#6ece58\"],[0.8888888888888888,\"#b5de2b\"],[1.0,\"#fde725\"]],\"sequentialminus\":[[0.0,\"#440154\"],[0.1111111111111111,\"#482878\"],[0.2222222222222222,\"#3e4989\"],[0.3333333333333333,\"#31688e\"],[0.4444444444444444,\"#26828e\"],[0.5555555555555556,\"#1f9e89\"],[0.6666666666666666,\"#35b779\"],[0.7777777777777778,\"#6ece58\"],[0.8888888888888888,\"#b5de2b\"],[1.0,\"#fde725\"]]},\"colorway\":[\"#1F77B4\",\"#FF7F0E\",\"#2CA02C\",\"#D62728\",\"#9467BD\",\"#8C564B\",\"#E377C2\",\"#7F7F7F\",\"#BCBD22\",\"#17BECF\"],\"font\":{\"color\":\"rgb(36,36,36)\"},\"geo\":{\"bgcolor\":\"white\",\"lakecolor\":\"white\",\"landcolor\":\"white\",\"showlakes\":true,\"showland\":true,\"subunitcolor\":\"white\"},\"hoverlabel\":{\"align\":\"left\"},\"hovermode\":\"closest\",\"mapbox\":{\"style\":\"light\"},\"paper_bgcolor\":\"white\",\"plot_bgcolor\":\"white\",\"polar\":{\"angularaxis\":{\"gridcolor\":\"rgb(232,232,232)\",\"linecolor\":\"rgb(36,36,36)\",\"showgrid\":false,\"showline\":true,\"ticks\":\"outside\"},\"bgcolor\":\"white\",\"radialaxis\":{\"gridcolor\":\"rgb(232,232,232)\",\"linecolor\":\"rgb(36,36,36)\",\"showgrid\":false,\"showline\":true,\"ticks\":\"outside\"}},\"scene\":{\"xaxis\":{\"backgroundcolor\":\"white\",\"gridcolor\":\"rgb(232,232,232)\",\"gridwidth\":2,\"linecolor\":\"rgb(36,36,36)\",\"showbackground\":true,\"showgrid\":false,\"showline\":true,\"ticks\":\"outside\",\"zeroline\":false,\"zerolinecolor\":\"rgb(36,36,36)\"},\"yaxis\":{\"backgroundcolor\":\"white\",\"gridcolor\":\"rgb(232,232,232)\",\"gridwidth\":2,\"linecolor\":\"rgb(36,36,36)\",\"showbackground\":true,\"showgrid\":false,\"showline\":true,\"ticks\":\"outside\",\"zeroline\":false,\"zerolinecolor\":\"rgb(36,36,36)\"},\"zaxis\":{\"backgroundcolor\":\"white\",\"gridcolor\":\"rgb(232,232,232)\",\"gridwidth\":2,\"linecolor\":\"rgb(36,36,36)\",\"showbackground\":true,\"showgrid\":false,\"showline\":true,\"ticks\":\"outside\",\"zeroline\":false,\"zerolinecolor\":\"rgb(36,36,36)\"}},\"shapedefaults\":{\"fillcolor\":\"black\",\"line\":{\"width\":0},\"opacity\":0.3},\"ternary\":{\"aaxis\":{\"gridcolor\":\"rgb(232,232,232)\",\"linecolor\":\"rgb(36,36,36)\",\"showgrid\":false,\"showline\":true,\"ticks\":\"outside\"},\"baxis\":{\"gridcolor\":\"rgb(232,232,232)\",\"linecolor\":\"rgb(36,36,36)\",\"showgrid\":false,\"showline\":true,\"ticks\":\"outside\"},\"bgcolor\":\"white\",\"caxis\":{\"gridcolor\":\"rgb(232,232,232)\",\"linecolor\":\"rgb(36,36,36)\",\"showgrid\":false,\"showline\":true,\"ticks\":\"outside\"}},\"title\":{\"x\":0.05},\"xaxis\":{\"automargin\":true,\"gridcolor\":\"rgb(232,232,232)\",\"linecolor\":\"rgb(36,36,36)\",\"showgrid\":false,\"showline\":true,\"ticks\":\"outside\",\"title\":{\"standoff\":15},\"zeroline\":false,\"zerolinecolor\":\"rgb(36,36,36)\"},\"yaxis\":{\"automargin\":true,\"gridcolor\":\"rgb(232,232,232)\",\"linecolor\":\"rgb(36,36,36)\",\"showgrid\":false,\"showline\":true,\"ticks\":\"outside\",\"title\":{\"standoff\":15},\"zeroline\":false,\"zerolinecolor\":\"rgb(36,36,36)\"}}},\"xaxis\":{\"anchor\":\"y\",\"domain\":[0.0,1.0],\"range\":[0,500],\"visible\":false},\"yaxis\":{\"anchor\":\"x\",\"domain\":[0.3388888888888889,1.0],\"range\":[65,100]},\"xaxis2\":{\"anchor\":\"y2\",\"domain\":[0.0,1.0],\"range\":[0,500]},\"yaxis2\":{\"anchor\":\"x2\",\"domain\":[0.0,0.18888888888888888],\"range\":[0,10]},\"font\":{\"size\":14},\"legend\":{\"yanchor\":\"bottom\",\"y\":0.05,\"xanchor\":\"right\",\"x\":1,\"bordercolor\":\"Black\",\"borderwidth\":1},\"autosize\":false,\"width\":550,\"height\":350},                        {\"responsive\": true}                    ).then(function(){\n",
       "                            \n",
       "var gd = document.getElementById('fbd1ce93-551a-42e5-956c-d359a248d53c');\n",
       "var x = new MutationObserver(function (mutations, observer) {{\n",
       "        var display = window.getComputedStyle(gd).display;\n",
       "        if (!display || display === 'none') {{\n",
       "            console.log([gd, 'removed!']);\n",
       "            Plotly.purge(gd);\n",
       "            observer.disconnect();\n",
       "        }}\n",
       "}});\n",
       "\n",
       "// Listen for the removal of the full notebook cells\n",
       "var notebookContainer = gd.closest('#notebook-container');\n",
       "if (notebookContainer) {{\n",
       "    x.observe(notebookContainer, {childList: true});\n",
       "}}\n",
       "\n",
       "// Listen for the clearing of the current output cell\n",
       "var outputEl = gd.closest('.output');\n",
       "if (outputEl) {{\n",
       "    x.observe(outputEl, {childList: true});\n",
       "}}\n",
       "\n",
       "                        })                };                });            </script>        </div>"
      ]
     },
     "metadata": {},
     "output_type": "display_data"
    }
   ],
   "source": [
    "df_results_feature.sort_values(by='Features',ascending=True, inplace=True)\n",
    "\n",
    "fig = make_subplots(rows=2, cols=1, vertical_spacing = 0.15, row_heights=[3.5,1])\n",
    "cut_interval = [10, 65]\n",
    "\n",
    "# Plot trend\n",
    "fig.add_trace(go.Scatter(x=df_results_feature['Features'], y=df_results_feature['Sensitivity']*100,name='Sensitivity',\n",
    "                        line={'color':'#F4A016','width':5},marker={'size':10}), row=1, col=1)\n",
    "fig.add_trace(go.Scatter(x=df_results_feature['Features'], y=df_results_feature['Specificity']*100,name='Specificity',\n",
    "                        line={'color':'#157B3A','width':5},marker={'size':10}), row=1, col=1)\n",
    "fig.add_trace(go.Scatter(x=df_results_feature['Features'], y=df_results_feature['Accuracy']*100,name='Accuracy',\n",
    "                        line={'color':'#A63354','width':5},marker={'size':10}), row=1, col=1)\n",
    "fig.add_trace(go.Scatter(x=[60,60], y=[0,100], mode='lines',\n",
    "                         line={'dash':'dash','color':'black','width':3},showlegend=False), row=1, col=1)\n",
    "fig.add_trace(go.Scatter(x=[60,60], y=[0,100], mode='lines',\n",
    "                         line={'dash':'dash','color':'black','width':3},showlegend=False), row=2, col=1)\n",
    "# Some aesthetical adjustments to layout\n",
    "fig.update_yaxes(range=[cut_interval[1], 100], row=1, col=1)\n",
    "fig.update_xaxes(range=[0,500],visible=False, row=1, col=1)\n",
    "fig.update_yaxes(range=[0, cut_interval[0]], row=2, col=1)\n",
    "fig.update_xaxes(range=[0,500],row=2, col=1)\n",
    "\n",
    "fig.update_layout(autosize=False,width=550,height=350,font=dict(size=14), template='simple_white',\n",
    "                 legend=dict(yanchor=\"bottom\", y=0.05,xanchor=\"right\",x=1, bordercolor=\"Black\",borderwidth=1))\n",
    "fig.show()\n",
    "fig.write_image(os.path.join(Path,'N feature optimization.png'),scale=3)\n",
    "plt.close()"
   ]
  },
  {
   "cell_type": "markdown",
   "id": "fc341979",
   "metadata": {},
   "source": [
    "ROC curve"
   ]
  },
  {
   "cell_type": "code",
   "execution_count": 5,
   "id": "7e85c8ba",
   "metadata": {},
   "outputs": [],
   "source": [
    "# Run classifier with cross-validation and plot ROC curves\n",
    "svc=svm.SVC(C=1500, kernel='linear',class_weight={0:0.3,1:0.7}, probability=True)\n",
    "svc=feature_selection.RFE(svc,n_features_to_select=60)\n",
    "\n",
    "cv = StratifiedKFold(n_splits=5)\n",
    "\n",
    "tprs,aucs = [],[]\n",
    "mean_fpr = np.linspace(0, 1, 100)\n",
    "\n",
    "for i, (train, test) in enumerate(cv.split(x_train, y_train)):\n",
    "    svc.fit(x_train.iloc[train,:], y_train.iloc[train])\n",
    "    y_pred_prob = svc.predict_proba(x_train.iloc[test,:])\n",
    "    fpr, tpr, _ = roc_curve(y_train.iloc[test],y_pred_prob[:,1])\n",
    "    interp_tpr = np.interp(mean_fpr, fpr, tpr)\n",
    "    interp_tpr[0] = 0.0\n",
    "    tprs.append(interp_tpr)\n",
    "    aucs.append(auc(mean_fpr,interp_tpr))\n",
    "\n",
    "mean_tpr = np.mean(tprs, axis=0)\n",
    "mean_tpr[-1]=1\n",
    "std_tpr = np.std(tprs, axis=0)\n",
    "mean_auc = np.mean(aucs)\n",
    "std_auc = np.std(aucs)"
   ]
  },
  {
   "cell_type": "code",
   "execution_count": 7,
   "id": "db8274ee",
   "metadata": {},
   "outputs": [
    {
     "name": "stdout",
     "output_type": "stream",
     "text": [
      "0.928030303030303\n",
      "0.05375289325527446\n"
     ]
    }
   ],
   "source": [
    "print(mean_auc)\n",
    "print(std_auc)"
   ]
  },
  {
   "cell_type": "code",
   "execution_count": 6,
   "id": "730391fe",
   "metadata": {},
   "outputs": [
    {
     "data": {
      "image/png": "[encoded data removed]",
      "text/plain": [
       "<Figure size 900x700 with 1 Axes>"
      ]
     },
     "metadata": {},
     "output_type": "display_data"
    }
   ],
   "source": [
    "fig, ax = plt.subplots(figsize=(9,7))\n",
    "ax.plot([0, 1], [0, 1], linestyle=\"--\", lw=3, color=\"k\", alpha=0.8)\n",
    "ax.plot(mean_fpr, mean_tpr, color=\"#4E5166\",\n",
    "        label=r\"Mean ROC (AUC = %0.2f $\\pm$ %0.2f)\" % (mean_auc, std_auc),\n",
    "        lw=5, alpha=1)\n",
    "\n",
    "tprs_upper = np.minimum(mean_tpr + std_tpr, 1)\n",
    "tprs_lower = np.maximum(mean_tpr - std_tpr, 0)\n",
    "\n",
    "ax.fill_between(mean_fpr, tprs_lower, tprs_upper,\n",
    "                color=\"#7C90A0\", alpha=0.3, label=r\"$\\pm$ 1 standard deviation\")\n",
    "ax.legend(loc=\"lower right\", fontsize=20)\n",
    "plt.xticks(fontsize=18)\n",
    "plt.yticks(fontsize=18)\n",
    "\n",
    "plt.show()\n",
    "#fig.savefig(os.path.join(Path,'Model ROC curve.tif'), dpi=120)\n",
    "plt.close()"
   ]
  },
  {
   "cell_type": "markdown",
   "id": "d4e88be8",
   "metadata": {},
   "source": [
    "Final model performance"
   ]
  },
  {
   "cell_type": "code",
   "execution_count": 7,
   "id": "8d287cb2",
   "metadata": {},
   "outputs": [
    {
     "name": "stdout",
     "output_type": "stream",
     "text": [
      "5-fold cross validation results:\n",
      "Total: 144, Malignant: 41, Benign: 103\n",
      "Accuracy: 0.875 Sensitivity: 0.805 Specificity: 0.903\n",
      "33\n",
      "93\n",
      "--------------------------------------------------\n",
      "Validation set results:\n",
      "Total: 36, Malignant: 10, Benign: 26\n",
      "Accuracy: 0.889 Sensitivity: 0.800 Specificity: 0.923\n",
      "8\n",
      "24\n",
      "--------------------------------------------------\n",
      "On-site results:\n",
      "Total: 512, Malignant: 153, Benign: 359\n",
      "Accuracy: 0.844 Sensitivity: 0.830 Specificity: 0.850\n",
      "127\n",
      "305\n",
      "--------------------------------------------------\n",
      "Stage 0 results:\n",
      "Total: 28\n",
      "Accuracy: 0.786 Sensitivity: 0.786 Specificity: nan\n",
      "22\n",
      "0\n"
     ]
    },
    {
     "name": "stderr",
     "output_type": "stream",
     "text": [
      "C:\\Users\\user\\Anaconda3\\lib\\site-packages\\ipykernel_launcher.py:5: RuntimeWarning: invalid value encountered in longlong_scalars\n",
      "  \"\"\"\n"
     ]
    }
   ],
   "source": [
    "svc=svm.SVC(C=1500, kernel='linear', class_weight={0:0.3,1:0.7})\n",
    "svc=feature_selection.RFE(svc,n_features_to_select=60)\n",
    "\n",
    "cv_prediction=model_selection.cross_val_predict(svc,x_train,y_train,cv=5)\n",
    "print('5-fold cross validation results:')\n",
    "print('Total: '+str(len(y_train))+', Malignant: '+str(sum(y_train))+', Benign: '+str(len(y_train)-sum(y_train)))\n",
    "accuracy, specificity, sensitivity=performance(y_train,cv_prediction)\n",
    "print('-'*50)\n",
    "      \n",
    "svc=svc.fit(x_train,y_train)\n",
    "\n",
    "# Predict validation set\n",
    "validation_prediction=svc.predict(x_test)\n",
    "print('Validation set results:')\n",
    "print('Total: '+str(len(y_test))+', Malignant: '+str(sum(y_test))+', Benign: '+str(len(y_test)-sum(y_test)))\n",
    "\n",
    "validation_result=performance(y_test,validation_prediction)\n",
    "print('-'*50)\n",
    "\n",
    "print('On-site results:')\n",
    "print('Total: '+str(len(y_external))+', Malignant: '+str(sum(y_external))+', Benign: '+str(len(y_external)-sum(y_external)))\n",
    "External_prediction=svc.predict(x_external)\n",
    "External_result=performance(y_external,External_prediction)\n",
    "print('-'*50)\n",
    "      \n",
    "\n",
    "print('Stage 0 results:')\n",
    "print('Total: '+str(len(y_stage0)))\n",
    "Stage0_prediction = svc.predict(x_stage0)\n",
    "Stage0_result = performance(y_stage0, Stage0_prediction)"
   ]
  },
  {
   "cell_type": "markdown",
   "id": "9255cf0f",
   "metadata": {},
   "source": [
    "Weighting"
   ]
  },
  {
   "cell_type": "code",
   "execution_count": 8,
   "id": "cade17a0",
   "metadata": {},
   "outputs": [],
   "source": [
    "mz = np.arange(501.5,995.5,1)\n",
    "select = svc.support_\n",
    "df_Weighting = pd.DataFrame({\"m/z\":mz[select], \"Weight\":svc.estimator_.coef_[0]})\n",
    "df_Weighting.to_excel(os.path.join(Path,'Weighting.xlsx'))"
   ]
  },
  {
   "cell_type": "code",
   "execution_count": 7,
   "id": "c3f760ef",
   "metadata": {},
   "outputs": [
    {
     "data": {
      "image/png": "[encoded data removed]",
      "text/plain": [
       "<Figure size 1600x600 with 1 Axes>"
      ]
     },
     "metadata": {},
     "output_type": "display_data"
    }
   ],
   "source": [
    "fig = plt.figure(figsize=(16,6)) # Create figure\n",
    "markerline1, stemlines1, baseline1 = plt.stem(df_Weighting.loc[df_Weighting[\"Weight\"]>0,\"m/z\"],\n",
    "                                              df_Weighting.loc[df_Weighting[\"Weight\"]>0,\"Weight\"], \n",
    "                                              linefmt='#ff8a17',markerfmt='None',basefmt='k')\n",
    "markerline2, stemlines2, baseline2 = plt.stem(df_Weighting.loc[df_Weighting[\"Weight\"]<0,\"m/z\"], \n",
    "                                              df_Weighting.loc[df_Weighting[\"Weight\"]<0,\"Weight\"],\n",
    "                                              linefmt='#269c00',markerfmt='None',basefmt='k')\n",
    "plt.setp(stemlines1, 'linewidth', 5)\n",
    "plt.setp(stemlines2, 'linewidth', 5)\n",
    "baseline2.set_xdata([500,1000])\n",
    "plt.ylim([-40,50])\n",
    "plt.xlim([490,1010])\n",
    "plt.xticks(fontsize=18)\n",
    "plt.yticks(fontsize=18)\n",
    "plt.show()\n",
    "#fig.savefig(os.path.join(Path,'Weighting.tif'), dpi=120)\n",
    "plt.close()"
   ]
  },
  {
   "cell_type": "markdown",
   "id": "298e92de",
   "metadata": {},
   "source": [
    "Save model"
   ]
  },
  {
   "cell_type": "code",
   "execution_count": 44,
   "id": "a2b0f132",
   "metadata": {},
   "outputs": [],
   "source": [
    "pickle.dump(svc, open(os.path.join(Path,'Model.pkl'), 'wb'))\n",
    "#svc = pickle.load(open(os.path.join(Path,'Model.pkl'), 'rb'))"
   ]
  },
  {
   "cell_type": "code",
   "execution_count": null,
   "id": "94855753",
   "metadata": {},
   "outputs": [],
   "source": []
  }
 ],
 "metadata": {
  "kernelspec": {
   "display_name": "Python 3 (ipykernel)",
   "language": "python",
   "name": "python3"
  },
  "language_info": {
   "codemirror_mode": {
    "name": "ipython",
    "version": 3
   },
   "file_extension": ".py",
   "mimetype": "text/x-python",
   "name": "python",
   "nbconvert_exporter": "python",
   "pygments_lexer": "ipython3",
   "version": "3.7.0"
  }
 },
 "nbformat": 4,
 "nbformat_minor": 5
}
