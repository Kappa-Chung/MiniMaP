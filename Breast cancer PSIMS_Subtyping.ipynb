{
 "cells": [
  {
   "cell_type": "markdown",
   "id": "f2fd8562",
   "metadata": {},
   "source": [
    "# Breast cancer PSI-MS - Subtyping"
   ]
  },
  {
   "cell_type": "markdown",
   "id": "8e40771d",
   "metadata": {},
   "source": [
    "Import packages"
   ]
  },
  {
   "cell_type": "code",
   "execution_count": 1,
   "id": "a0a83d6d",
   "metadata": {},
   "outputs": [],
   "source": [
    "import os\n",
    "import matplotlib.pyplot as plt\n",
    "import numpy as np\n",
    "import pandas as pd\n",
    "from sklearn import svm\n",
    "from sklearn import model_selection\n",
    "from sklearn.preprocessing import StandardScaler\n",
    "from sklearn.metrics import confusion_matrix, roc_curve\n",
    "from sklearn import feature_selection\n",
    "from sklearn.metrics import confusion_matrix, auc, roc_curve\n",
    "from sklearn.model_selection import StratifiedKFold\n",
    "import plotly.express as px\n",
    "import plotly.graph_objects as go\n",
    "from plotly.subplots import make_subplots\n",
    "import pickle\n",
    "import seaborn as sns"
   ]
  },
  {
   "cell_type": "code",
   "execution_count": 33,
   "id": "8d73c12c",
   "metadata": {},
   "outputs": [],
   "source": [
    "def performance(diagnosis,prediction):\n",
    "    result=confusion_matrix(diagnosis,prediction)\n",
    "    tn,fp,fn,tp=result.ravel()\n",
    "    accuracy=(tp+tn)/np.sum(result)\n",
    "    specificity=tn/sum(result[0,:])\n",
    "    sensitivity=tp/sum(result[1,:])\n",
    "    #print('Accuracy: %.3f Sensitivity: %.3f Specificity: %.3f'%(accuracy,sensitivity,specificity))\n",
    "    return accuracy, specificity, sensitivity\n",
    "\n",
    "def C_optimization(C_all, weight, cv, x, y):\n",
    "    result_c=[]\n",
    "    for c in C_all:\n",
    "        svc=svm.SVC(C=c, kernel='linear',class_weight=weight)\n",
    "        cv_prediction=model_selection.cross_val_predict(svc,x,y,cv=cv)\n",
    "        accuracy, specificity, sensitivity=performance(y,cv_prediction)\n",
    "        result_c.append([c, accuracy, specificity, sensitivity])\n",
    "\n",
    "    df_results_c = pd.DataFrame(result_c, columns =['C','Accuracy', 'Specificity', 'Sensitivity'])\n",
    "    df_results_c.sort_values(by='Accuracy',ascending=False, ignore_index=True,inplace=True)\n",
    "\n",
    "    return df_results_c\n",
    "\n",
    "def Feature_optimization(num_start, num_end, C, weight, cv, x, y):\n",
    "    result_feature=[]\n",
    "\n",
    "    for i in range(num_start,num_end,10):\n",
    "        svc=svm.SVC(C=C, kernel='linear',class_weight=weight)\n",
    "        svc=feature_selection.RFE(svc,n_features_to_select=i)\n",
    "        cv_prediction=model_selection.cross_val_predict(svc,x,y,cv=cv)\n",
    "        accuracy, specificity, sensitivity=performance(y,cv_prediction)\n",
    "        result_feature.append([i, accuracy, specificity, sensitivity])\n",
    "    df_results_feature = pd.DataFrame(result_feature, columns =['Features','Accuracy', 'Specificity', 'Sensitivity'])\n",
    "    df_results_feature.sort_values(by=['Accuracy','Features'],ascending=[False,True], ignore_index=True, inplace=True)\n",
    "    return df_results_feature\n",
    "\n",
    "def Plot_C_optimization(df_results_c, c, filename):\n",
    "    fig = go.Figure()\n",
    "\n",
    "    # Plot trend\n",
    "    fig.add_trace(go.Scatter(x=df_results_c['C'], y=df_results_c['Sensitivity']*100,name='Sensitivity',\n",
    "                             line={'color':'#F4A016','width':5},marker={'size':8}))\n",
    "    fig.add_trace(go.Scatter(x=df_results_c['C'], y=df_results_c['Specificity']*100,name='Specificity',\n",
    "                             line={'color':'#157B3A','width':5},marker={'size':8}))\n",
    "    fig.add_trace(go.Scatter(x=df_results_c['C'], y=df_results_c['Accuracy']*100,name='Accuracy',\n",
    "                             line={'color':'#A63354','width':5},marker={'size':8}))\n",
    "    fig.add_trace(go.Scatter(x=[c,c], y=[0,100], mode='lines',\n",
    "                             line={'dash':'dash','color':'black','width':3},showlegend=False))\n",
    "\n",
    "    # Some aesthetical adjustments to layout\n",
    "    fig.update_xaxes(type=\"log\")\n",
    "    fig.update_layout(autosize=False,width=550,height=350,font=dict(size=14), template='simple_white',\n",
    "                      legend=dict(yanchor=\"bottom\", y=0.05,xanchor=\"right\",x=0.7, bordercolor=\"Black\",borderwidth=1))\n",
    "\n",
    "    fig.write_image(os.path.join(Path,filename),scale=3)\n",
    "    plt.close()\n",
    "\n",
    "def Plot_Feature_optimization(df_results_feature, Feature, filename):\n",
    "    fig = make_subplots(rows=2, cols=1, vertical_spacing = 0.15, row_heights=[3.5,1])\n",
    "    cut_interval = [10, 50]\n",
    "\n",
    "    # Plot trend\n",
    "    fig.add_trace(go.Scatter(x=df_results_feature['Features'], y=df_results_feature['Sensitivity']*100,name='Sensitivity',\n",
    "                        line={'color':'#F4A016','width':5},marker={'size':8}), row=1, col=1)\n",
    "    fig.add_trace(go.Scatter(x=df_results_feature['Features'], y=df_results_feature['Specificity']*100,name='Specificity',\n",
    "                        line={'color':'#157B3A','width':5},marker={'size':8}), row=1, col=1)\n",
    "    fig.add_trace(go.Scatter(x=df_results_feature['Features'], y=df_results_feature['Accuracy']*100,name='Accuracy',\n",
    "                        line={'color':'#A63354','width':5},marker={'size':8}), row=1, col=1)\n",
    "    fig.add_trace(go.Scatter(x=[Feature,Feature], y=[0,100], mode='lines',\n",
    "                         line={'dash':'dash','color':'black','width':3},showlegend=False), row=1, col=1)\n",
    "    fig.add_trace(go.Scatter(x=[Feature,Feature], y=[0,100], mode='lines',\n",
    "                         line={'dash':'dash','color':'black','width':3},showlegend=False), row=2, col=1)\n",
    "    # Some aesthetical adjustments to layout\n",
    "    fig.update_yaxes(range=[cut_interval[1], 80], row=1, col=1)\n",
    "    fig.update_xaxes(range=[0,250],visible=False, row=1, col=1)\n",
    "    fig.update_yaxes(range=[0, cut_interval[0]], row=2, col=1)\n",
    "    fig.update_xaxes(range=[0,250],row=2, col=1)\n",
    "\n",
    "    fig.update_layout(autosize=False,width=550,height=350,font=dict(size=14), template='simple_white',\n",
    "                 legend=dict(yanchor=\"bottom\", y=0.05,xanchor=\"right\",x=0.6, bordercolor=\"Black\",borderwidth=1))\n",
    "    fig.write_image(os.path.join(Path,filename),scale=3)\n",
    "    plt.close()\n",
    "\n",
    "def Breast_Subtype(ER, HER2):\n",
    "    # Return subtype of breast cancer according to the hormone information\n",
    "    # 0: Luminal, 1: Her2, 2: Triple negative\n",
    "    if ER:\n",
    "        result=0\n",
    "    else:\n",
    "        if HER2:\n",
    "            result=1\n",
    "        else:\n",
    "            result=2\n",
    "    return result"
   ]
  },
  {
   "cell_type": "markdown",
   "id": "bbbc4697",
   "metadata": {},
   "source": [
    "Read files"
   ]
  },
  {
   "cell_type": "code",
   "execution_count": 3,
   "id": "0736d672",
   "metadata": {},
   "outputs": [],
   "source": [
    "Path = r'D:\\Breast Cancer PSIMS\\Codes and figures'\n",
    "Filename = 'Subtype_All.csv'\n",
    "\n",
    "# Read raw file and patient subtyping info\n",
    "Raw_data = pd.read_csv(os.path.join(Path,Filename))"
   ]
  },
  {
   "cell_type": "markdown",
   "id": "33954eb6",
   "metadata": {},
   "source": [
    "Preprocess data"
   ]
  },
  {
   "cell_type": "code",
   "execution_count": 4,
   "id": "cb5ba0c8",
   "metadata": {},
   "outputs": [],
   "source": [
    "x = Raw_data.iloc[:,5:]\n",
    "y_HR = Raw_data.iloc[:,1]\n",
    "y_HER2 = Raw_data.iloc[:,3]"
   ]
  },
  {
   "cell_type": "code",
   "execution_count": 5,
   "id": "66b7bc41",
   "metadata": {},
   "outputs": [
    {
     "name": "stdout",
     "output_type": "stream",
     "text": [
      "--------------------------------------------------\n",
      "Number of HR group: 145\n",
      "Number of HR positive:　116\n",
      "Number of HR negative:　29\n",
      "--------------------------------------------------\n",
      "Number of HER2 group: 145\n",
      "Number of HER2 positive:　36\n",
      "Number of HER2 negative:　109\n",
      "--------------------------------------------------\n"
     ]
    }
   ],
   "source": [
    "print('-'*50)\n",
    "# HR\n",
    "print('Number of HR group: '+str(len(y_HR)))\n",
    "print('Number of HR positive:　'+str(sum(y_HR)))\n",
    "print('Number of HR negative:　'+str(len(y_HR)-sum(y_HR)))\n",
    "print('-'*50)\n",
    "\n",
    "# HER2\n",
    "print('Number of HER2 group: '+str(len(y_HER2)))\n",
    "print('Number of HER2 positive:　'+str(sum(y_HER2)))\n",
    "print('Number of HER2 negative:　'+str(len(y_HER2)-sum(y_HER2)))\n",
    "print('-'*50)"
   ]
  },
  {
   "cell_type": "markdown",
   "id": "e67649a3",
   "metadata": {},
   "source": [
    "Tuned parameters"
   ]
  },
  {
   "cell_type": "code",
   "execution_count": 26,
   "id": "cb584292",
   "metadata": {},
   "outputs": [],
   "source": [
    "C_all = [10,100,500,750,1000,1200,1500,2000,2250,2500,5000,10000]\n",
    "cv=10"
   ]
  },
  {
   "cell_type": "markdown",
   "id": "9b80f0eb",
   "metadata": {},
   "source": [
    "Build model - HR"
   ]
  },
  {
   "cell_type": "code",
   "execution_count": 16,
   "id": "6eb44d3e",
   "metadata": {},
   "outputs": [
    {
     "name": "stdout",
     "output_type": "stream",
     "text": [
      "Optimized C: 2500\n",
      "Optimized number of features: 110\n",
      "10-fold cross validation results:\n",
      "Accuracy: 0.814 Sensitivity: 0.802 Specificity: 0.862\n"
     ]
    }
   ],
   "source": [
    "# Optimize model\n",
    "Weight = 'balanced'\n",
    "\n",
    "df_results_c = C_optimization(C_all, Weight, cv, x, y_HR)\n",
    "c = df_results_c.loc[0,'C']\n",
    "print('Optimized C: '+str(c))\n",
    "df_results_c.sort_values(by='C',ascending=True, inplace=True)\n",
    "Plot_C_optimization(df_results_c, c, 'C optimization_HR.png')\n",
    "    \n",
    "df_results_feature = Feature_optimization(10, 250, c, Weight, cv, x, y_HR)\n",
    "Feature = df_results_feature.loc[0,'Features']\n",
    "print('Optimized number of features: '+str(Feature))\n",
    "df_results_feature.sort_values(by='Features',ascending=True, inplace=True)\n",
    "Plot_Feature_optimization(df_results_feature, Feature, 'N feature optimization_HR.png')\n",
    "\n",
    "# 5-fold cross validation\n",
    "svc=svm.SVC(C=c, kernel='linear',class_weight=Weight)\n",
    "svc=feature_selection.RFE(svc,n_features_to_select=Feature)\n",
    "\n",
    "cv_prediction_HR=model_selection.cross_val_predict(svc,x, y_HR,cv=cv)\n",
    "print('10-fold cross validation results:')\n",
    "acc, spe, sen=performance(y_HR,cv_prediction_HR)\n",
    "print('Accuracy: %.3f Sensitivity: %.3f Specificity: %.3f'%(acc,sen,spe))"
   ]
  },
  {
   "cell_type": "markdown",
   "id": "9d0ecf28",
   "metadata": {},
   "source": [
    "Build model - HER2"
   ]
  },
  {
   "cell_type": "code",
   "execution_count": 28,
   "id": "3503cd0f",
   "metadata": {},
   "outputs": [
    {
     "name": "stdout",
     "output_type": "stream",
     "text": [
      "Optimized C: 2000\n",
      "Optimized number of features: 200\n",
      "10-fold cross validation results:\n",
      "Accuracy: 0.710 Sensitivity: 0.694 Specificity: 0.716\n"
     ]
    }
   ],
   "source": [
    "# Optimize model\n",
    "Weight={0:0.25,1:0.75}\n",
    "\n",
    "df_results_c = C_optimization(C_all, Weight, cv, x, y_HER2)\n",
    "c = df_results_c.loc[0,'C']\n",
    "print('Optimized C: '+str(c))\n",
    "df_results_c.sort_values(by='C',ascending=True, inplace=True)\n",
    "Plot_C_optimization(df_results_c, c, 'C optimization_HER2.png')\n",
    "    \n",
    "df_results_feature = Feature_optimization(10, 250, c, Weight, cv, x, y_HER2)\n",
    "Feature = df_results_feature.loc[0,'Features']\n",
    "print('Optimized number of features: '+str(Feature))\n",
    "df_results_feature.sort_values(by='Features',ascending=True, inplace=True)\n",
    "Plot_Feature_optimization(df_results_feature, Feature, 'N feature optimization_HER2.png')\n",
    "\n",
    "# 5-fold cross validation\n",
    "svc=svm.SVC(C=c, kernel='linear',class_weight=Weight)\n",
    "svc=feature_selection.RFE(svc,n_features_to_select=Feature)\n",
    "\n",
    "cv_prediction_HER2=model_selection.cross_val_predict(svc,x, y_HER2,cv=cv)\n",
    "print('10-fold cross validation results:')\n",
    "acc, spe, sen=performance(y_HER2,cv_prediction_HER2)\n",
    "print('Accuracy: %.3f Sensitivity: %.3f Specificity: %.3f'%(acc,sen,spe))"
   ]
  },
  {
   "cell_type": "markdown",
   "id": "d2d5f6f7",
   "metadata": {},
   "source": [
    "Subtyping based on previous models"
   ]
  },
  {
   "cell_type": "code",
   "execution_count": 44,
   "id": "fae47e05",
   "metadata": {},
   "outputs": [
    {
     "name": "stdout",
     "output_type": "stream",
     "text": [
      "Overall accuracy:  0.766\n",
      "Luminal sensitivity:  0.802\n",
      "HER2 sensitivity:  0.667\n",
      "Triple negative sensitivity:  0.588\n"
     ]
    }
   ],
   "source": [
    "Subtype_prediction_matrix= [[0 for i in range(3)] for j in range(3)]\n",
    "\n",
    "for i in range(len(Raw_data)):\n",
    "    correct = Breast_Subtype(y_HR[i], y_HER2[i])\n",
    "    predict = Breast_Subtype(cv_prediction_HR[i], cv_prediction_HER2[i])\n",
    "    Subtype_prediction_matrix[correct][predict] = Subtype_prediction_matrix[correct][predict]+1\n",
    "\n",
    "acc = np.trace(Subtype_prediction_matrix)/len(Raw_data)\n",
    "sen_luminal = Subtype_prediction_matrix[0][0]/sum(Subtype_prediction_matrix[0][:])\n",
    "sen_her2 = Subtype_prediction_matrix[1][1]/sum(Subtype_prediction_matrix[1][:])\n",
    "sen_tn = Subtype_prediction_matrix[2][2]/sum(Subtype_prediction_matrix[2][:])\n",
    "\n",
    "print('Overall accuracy:  %.3f'%(acc))\n",
    "print('Luminal sensitivity:  %.3f'%(sen_luminal))\n",
    "print('HER2 sensitivity:  %.3f'%(sen_her2))\n",
    "print('Triple negative sensitivity:  %.3f'%(sen_tn))"
   ]
  },
  {
   "cell_type": "code",
   "execution_count": 64,
   "id": "cee258cc",
   "metadata": {},
   "outputs": [
    {
     "data": {
      "image/png": "[encoded data removed]",
      "text/plain": [
       "<Figure size 1200x800 with 2 Axes>"
      ]
     },
     "metadata": {},
     "output_type": "display_data"
    }
   ],
   "source": [
    "fig = plt.figure(figsize=(12,8)) # Create figure\n",
    "ax = sns.heatmap(Subtype_prediction_matrix, linewidth=4, vmax=25, vmin=4, annot=True,\n",
    "                 cmap=sns.color_palette(\"Blues\", as_cmap=True),annot_kws={\"fontsize\":24},\n",
    "                 yticklabels=False, xticklabels=False)\n",
    "\n",
    "#fig.tight_layout()\n",
    "plt.show()\n",
    "\n",
    "fig.savefig(os.path.join(Path,'Subtype Heatmap.tif'), dpi=120)\n",
    "plt.close()"
   ]
  },
  {
   "cell_type": "code",
   "execution_count": null,
   "id": "7e51d60d",
   "metadata": {},
   "outputs": [],
   "source": []
  }
 ],
 "metadata": {
  "kernelspec": {
   "display_name": "Python 3 (ipykernel)",
   "language": "python",
   "name": "python3"
  },
  "language_info": {
   "codemirror_mode": {
    "name": "ipython",
    "version": 3
   },
   "file_extension": ".py",
   "mimetype": "text/x-python",
   "name": "python",
   "nbconvert_exporter": "python",
   "pygments_lexer": "ipython3",
   "version": "3.7.0"
  }
 },
 "nbformat": 4,
 "nbformat_minor": 5
}
