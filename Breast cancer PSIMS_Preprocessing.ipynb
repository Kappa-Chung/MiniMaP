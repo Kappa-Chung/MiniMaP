{
 "cells": [
  {
   "cell_type": "markdown",
   "id": "f2fd8562",
   "metadata": {},
   "source": [
    "# Breast cancer PSI-MS - Data preprocessing"
   ]
  },
  {
   "cell_type": "markdown",
   "id": "5940cc86",
   "metadata": {},
   "source": [
    "Import packages"
   ]
  },
  {
   "cell_type": "code",
   "execution_count": 1,
   "id": "59bb401e",
   "metadata": {},
   "outputs": [],
   "source": [
    "import os\n",
    "import numpy as np\n",
    "import pandas as pd\n",
    "import netCDF4 as nc\n",
    "import os\n",
    "import math"
   ]
  },
  {
   "cell_type": "code",
   "execution_count": 2,
   "id": "1b6a15c4",
   "metadata": {},
   "outputs": [],
   "source": [
    "def correction(mass_start,mass_end,spectrum):\n",
    "    # Find possible range\n",
    "    index1 = np.where(np.isclose(spectrum[0,:], mass_start))\n",
    "    index2 = np.where(np.isclose(spectrum[0,:], mass_end))\n",
    "    # Find the position of maximum signal in the possible range\n",
    "    correct_mass = max(spectrum[1,index1[0][0]:index2[0][0]])\n",
    "    index = np.where(np.isclose(spectrum[1,:], correct_mass))\n",
    "    index = index[0][0]\n",
    "    # Retrun the index of the correct peak position\n",
    "    return index"
   ]
  },
  {
   "cell_type": "markdown",
   "id": "d53314be",
   "metadata": {},
   "source": [
    "File directory / parameters"
   ]
  },
  {
   "cell_type": "code",
   "execution_count": 3,
   "id": "a027713e",
   "metadata": {},
   "outputs": [],
   "source": [
    "Path = r'D:\\Breast Cancer PSIMS\\Codes and figures'\n",
    "Filename = 'C678_benign_500-1000.cdf'\n",
    "ID = 'C678'\n",
    "Label = 0\n",
    "Filename_output = 'C678_benign_500-1000.csv'\n",
    "bin_size=1"
   ]
  },
  {
   "cell_type": "markdown",
   "id": "21a8214f",
   "metadata": {},
   "source": [
    "Import data"
   ]
  },
  {
   "cell_type": "code",
   "execution_count": 4,
   "id": "ea2785b8",
   "metadata": {},
   "outputs": [],
   "source": [
    "data = nc.Dataset(os.path.join(Path, Filename),'a')\n",
    "inten = data.variables['intensity_values'][:]\n",
    "mass = data.variables['mass_values'][:]\n",
    "TIC = sum(data.variables['total_intensity'][:])\n",
    "ms_list = np.arange(np.min(mass), np.max(mass), 0.05)\n",
    "ms_list = np.around(ms_list,2)\n",
    "mass = np.around(mass,2)\n",
    "\n",
    "spectrum = np.zeros((2,len(ms_list)))\n",
    "spectrum[0,:] = ms_list"
   ]
  },
  {
   "cell_type": "markdown",
   "id": "f9ddb3d0",
   "metadata": {},
   "source": [
    "Mass calibration"
   ]
  },
  {
   "cell_type": "code",
   "execution_count": 6,
   "id": "5179eda6",
   "metadata": {},
   "outputs": [],
   "source": [
    "for i in range(len(ms_list)):\n",
    "    ind = np.where(mass==spectrum[0,i])\n",
    "    spectrum[1,i] = sum(inten[ind])\n",
    "    \n",
    "ref1 = correction(518,519,spectrum)\n",
    "ref2 = correction(725,726.5,spectrum)\n",
    "ref3 = correction(782,784,spectrum)\n",
    "ref4 = correction(808,809.5,spectrum)\n",
    "\n",
    "Obs_peak=[ref1,ref2,ref3,ref4]\n",
    "Cal_peak=[518.32,725.56,782.57,808.58]\n",
    "\n",
    "# Calculate average mass error\n",
    "error=(sum(ms_list[Obs_peak])-sum(Cal_peak))/4\n",
    "# Calculate number of position to move\n",
    "error_parameter=np.ceil(error/0.05)\n",
    "\n",
    "if error_parameter > 0:\n",
    "    # m/z is higher than expected.\n",
    "    spectrum_corrected = np.zeros((2,spectrum.shape[1]))\n",
    "    spectrum_corrected[0,:-int(error_parameter)] = ms_list[:-int(error_parameter)]\n",
    "    spectrum_corrected[1,:-int(error_parameter)] = spectrum[1,int(error_parameter):]\n",
    "    \n",
    "elif error_parameter < 0:\n",
    "    # m/z is lower than expected.\n",
    "    error_parameter = error_parameter*(-1)\n",
    "    spectrum_corrected = np.zeros((2,spectrum.shape[1]+int(error_parameter)))\n",
    "    spectrum_corrected[0,:-int(error_parameter)] = ms_list[:]\n",
    "    spectrum_corrected[1,int(error_parameter):] = spectrum[1,:]\n",
    "    \n",
    "elif error_parameter == 0:\n",
    "    # No calibration required\n",
    "    spectrum_corrected = spectrum"
   ]
  },
  {
   "cell_type": "markdown",
   "id": "a35e7072",
   "metadata": {},
   "source": [
    "Binning & normalization"
   ]
  },
  {
   "cell_type": "code",
   "execution_count": 7,
   "id": "7d477425",
   "metadata": {},
   "outputs": [],
   "source": [
    "bin_parameter = int(bin_size/0.05)\n",
    "ms_list_bin = np.arange(math.ceil(min(ms_list))+1.5,math.floor(max(ms_list))-3.5,bin_size)\n",
    "\n",
    "spectrum_final = np.zeros((2,len(ms_list_bin)))\n",
    "spectrum_final[0,:] = ms_list_bin\n",
    "cal_range = int(bin_parameter/2)\n",
    "\n",
    "for i in range(len(ms_list_bin)):\n",
    "    index=np.where(np.isclose(ms_list_bin[i],spectrum_corrected[0,:]))\n",
    "    index=index[0][0]\n",
    "    spectrum_final[1,i]=sum(spectrum_corrected[1,index-cal_range:index+cal_range])/TIC"
   ]
  },
  {
   "cell_type": "markdown",
   "id": "c7c74f0f",
   "metadata": {},
   "source": [
    "Export"
   ]
  },
  {
   "cell_type": "code",
   "execution_count": 15,
   "id": "58e95b59",
   "metadata": {},
   "outputs": [],
   "source": [
    "# Convert spectrum to dataframe\n",
    "df_spectrum = pd.DataFrame(spectrum_final[1,:]).T\n",
    "df_spectrum.columns = spectrum_final[0,:]\n",
    "\n",
    "# Convert info into dataframe (ID and label)\n",
    "df_info = pd.DataFrame({'ID':[ID],'Type':[Label]})\n",
    "\n",
    "# Combine the two dataframe and output as csv file\n",
    "df_final = pd.concat([df_info, df_spectrum], axis=1, join='inner')\n",
    "df_final.to_csv(os.path.join(Path, Filename_output), index=False)"
   ]
  }
 ],
 "metadata": {
  "kernelspec": {
   "display_name": "Python 3 (ipykernel)",
   "language": "python",
   "name": "python3"
  },
  "language_info": {
   "codemirror_mode": {
    "name": "ipython",
    "version": 3
   },
   "file_extension": ".py",
   "mimetype": "text/x-python",
   "name": "python",
   "nbconvert_exporter": "python",
   "pygments_lexer": "ipython3",
   "version": "3.7.0"
  }
 },
 "nbformat": 4,
 "nbformat_minor": 5
}
